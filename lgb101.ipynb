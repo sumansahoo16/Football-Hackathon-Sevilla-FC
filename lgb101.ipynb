{
 "cells": [
  {
   "cell_type": "code",
   "execution_count": 1,
   "id": "3427fd4e",
   "metadata": {
    "_cell_guid": "b1076dfc-b9ad-4769-8c92-a6c4dae69d19",
    "_uuid": "8f2839f25d086af736a60e9eeb907d3b93b6e0e5",
    "execution": {
     "iopub.execute_input": "2022-06-12T18:51:35.560292Z",
     "iopub.status.busy": "2022-06-12T18:51:35.558808Z",
     "iopub.status.idle": "2022-06-12T18:51:38.045374Z",
     "shell.execute_reply": "2022-06-12T18:51:38.044193Z"
    },
    "papermill": {
     "duration": 2.502463,
     "end_time": "2022-06-12T18:51:38.048265",
     "exception": false,
     "start_time": "2022-06-12T18:51:35.545802",
     "status": "completed"
    },
    "tags": []
   },
   "outputs": [
    {
     "data": {
      "text/html": [
       "<style type='text/css'>\n",
       ".datatable table.frame { margin-bottom: 0; }\n",
       ".datatable table.frame thead { border-bottom: none; }\n",
       ".datatable table.frame tr.coltypes td {  color: #FFFFFF;  line-height: 6px;  padding: 0 0.5em;}\n",
       ".datatable .bool    { background: #DDDD99; }\n",
       ".datatable .object  { background: #565656; }\n",
       ".datatable .int     { background: #5D9E5D; }\n",
       ".datatable .float   { background: #4040CC; }\n",
       ".datatable .str     { background: #CC4040; }\n",
       ".datatable .time    { background: #40CC40; }\n",
       ".datatable .row_index {  background: var(--jp-border-color3);  border-right: 1px solid var(--jp-border-color0);  color: var(--jp-ui-font-color3);  font-size: 9px;}\n",
       ".datatable .frame tbody td { text-align: left; }\n",
       ".datatable .frame tr.coltypes .row_index {  background: var(--jp-border-color0);}\n",
       ".datatable th:nth-child(2) { padding-left: 12px; }\n",
       ".datatable .hellipsis {  color: var(--jp-cell-editor-border-color);}\n",
       ".datatable .vellipsis {  background: var(--jp-layout-color0);  color: var(--jp-cell-editor-border-color);}\n",
       ".datatable .na {  color: var(--jp-cell-editor-border-color);  font-size: 80%;}\n",
       ".datatable .sp {  opacity: 0.25;}\n",
       ".datatable .footer { font-size: 9px; }\n",
       ".datatable .frame_dimensions {  background: var(--jp-border-color3);  border-top: 1px solid var(--jp-border-color0);  color: var(--jp-ui-font-color3);  display: inline-block;  opacity: 0.6;  padding: 1px 10px 1px 5px;}\n",
       "</style>\n"
      ],
      "text/plain": [
       "<IPython.core.display.HTML object>"
      ]
     },
     "metadata": {},
     "output_type": "display_data"
    }
   ],
   "source": [
    "import numpy as np\n",
    "import pandas as pd\n",
    "import matplotlib.pyplot as plt\n",
    "\n",
    "\n",
    "import seaborn as sns\n",
    "import lightgbm as lgb\n",
    "from sklearn.metrics import r2_score\n",
    "from sklearn.model_selection import StratifiedKFold"
   ]
  },
  {
   "cell_type": "code",
   "execution_count": 2,
   "id": "3717042c",
   "metadata": {
    "execution": {
     "iopub.execute_input": "2022-06-12T18:51:38.065032Z",
     "iopub.status.busy": "2022-06-12T18:51:38.064586Z",
     "iopub.status.idle": "2022-06-12T18:51:45.167607Z",
     "shell.execute_reply": "2022-06-12T18:51:45.166748Z"
    },
    "papermill": {
     "duration": 7.113447,
     "end_time": "2022-06-12T18:51:45.170416",
     "exception": false,
     "start_time": "2022-06-12T18:51:38.056969",
     "status": "completed"
    },
    "tags": []
   },
   "outputs": [],
   "source": [
    "data = pd.read_csv('../input/football-hackathon/train_1K0BDt5/train.csv')\n",
    "test = pd.read_csv('../input/football-hackathon/test_kuhCxHY/test.csv')\n",
    "sub  = pd.read_csv('../input/football-hackathon/sample_submission_wBWLI0s.csv')"
   ]
  },
  {
   "cell_type": "code",
   "execution_count": 3,
   "id": "bf3d4dec",
   "metadata": {
    "execution": {
     "iopub.execute_input": "2022-06-12T18:51:45.185753Z",
     "iopub.status.busy": "2022-06-12T18:51:45.185337Z",
     "iopub.status.idle": "2022-06-12T18:51:45.433066Z",
     "shell.execute_reply": "2022-06-12T18:51:45.432121Z"
    },
    "papermill": {
     "duration": 0.258211,
     "end_time": "2022-06-12T18:51:45.435526",
     "exception": false,
     "start_time": "2022-06-12T18:51:45.177315",
     "status": "completed"
    },
    "tags": []
   },
   "outputs": [],
   "source": [
    "winner = {'winner': 1, 'loser': -1, 'draw': 0}\n",
    "\n",
    "data['winner'] = data['winner'].map(winner)\n",
    "test['winner'] = test['winner'].map(winner)\n",
    "\n",
    "data['team'] = data['team'].map({'team1' : 0, 'team2' : 1})\n",
    "test['team'] = test['team'].map({'team1' : 0, 'team2' : 1})\n",
    "\n",
    "data = pd.get_dummies(data, columns = ['competitionId', 'scout_id','team1_system_id', 'team2_system_id', 'player_position_1','player_position_2'])\n",
    "test = pd.get_dummies(test, columns = ['competitionId', 'scout_id','team1_system_id', 'team2_system_id', 'player_position_1','player_position_2'])\n",
    "\n",
    "del data['row_id'], test['row_id']"
   ]
  },
  {
   "cell_type": "code",
   "execution_count": 4,
   "id": "b85b44f4",
   "metadata": {
    "execution": {
     "iopub.execute_input": "2022-06-12T18:51:45.449644Z",
     "iopub.status.busy": "2022-06-12T18:51:45.449231Z",
     "iopub.status.idle": "2022-06-12T18:51:45.657519Z",
     "shell.execute_reply": "2022-06-12T18:51:45.656415Z"
    },
    "papermill": {
     "duration": 0.217825,
     "end_time": "2022-06-12T18:51:45.659764",
     "exception": false,
     "start_time": "2022-06-12T18:51:45.441939",
     "status": "completed"
    },
    "tags": []
   },
   "outputs": [
    {
     "name": "stdout",
     "output_type": "stream",
     "text": [
      "843\n"
     ]
    }
   ],
   "source": [
    "cols = list(set(test.columns.to_list()).intersection(set(data.columns.to_list())))\n",
    "\n",
    "lgb_params = {\n",
    "    'boosting_type': 'gbdt',\n",
    "    'objective': 'regression',\n",
    "    'metric': 'mean_squared_error',\n",
    "    'num_iterations' : 10000,\n",
    "    'learning_rate' : 0.2,\n",
    "    'nthread':-1,\n",
    "    'seed' : 16,\n",
    "}\n",
    "\n",
    "\n",
    "remove_cols = []\n",
    "for col in cols:\n",
    "    \n",
    "    if data[col].isna().sum() > 15000: remove_cols.append(col)\n",
    "        \n",
    "for col in remove_cols :\n",
    "    cols.remove(col)\n",
    "    \n",
    "print(len(cols))"
   ]
  },
  {
   "cell_type": "code",
   "execution_count": 5,
   "id": "8a57e961",
   "metadata": {
    "execution": {
     "iopub.execute_input": "2022-06-12T18:51:45.673766Z",
     "iopub.status.busy": "2022-06-12T18:51:45.673333Z",
     "iopub.status.idle": "2022-06-12T19:05:22.405158Z",
     "shell.execute_reply": "2022-06-12T19:05:22.403318Z"
    },
    "papermill": {
     "duration": 816.742197,
     "end_time": "2022-06-12T19:05:22.408193",
     "exception": false,
     "start_time": "2022-06-12T18:51:45.665996",
     "status": "completed"
    },
    "tags": []
   },
   "outputs": [
    {
     "name": "stdout",
     "output_type": "stream",
     "text": [
      "---------------------------------------\n",
      "SEED :  16\n",
      "---------------------------------------\n",
      "FOLD :  0\n"
     ]
    },
    {
     "name": "stderr",
     "output_type": "stream",
     "text": [
      "/opt/conda/lib/python3.7/site-packages/lightgbm/engine.py:177: UserWarning: Found `num_iterations` in params. Will use it instead of argument\n",
      "  _log_warning(f\"Found `{alias}` in params. Will use it instead of argument\")\n",
      "/opt/conda/lib/python3.7/site-packages/lightgbm/engine.py:181: UserWarning: 'early_stopping_rounds' argument is deprecated and will be removed in a future release of LightGBM. Pass 'early_stopping()' callback via 'callbacks' argument instead.\n",
      "  _log_warning(\"'early_stopping_rounds' argument is deprecated and will be removed in a future release of LightGBM. \"\n",
      "/opt/conda/lib/python3.7/site-packages/lightgbm/engine.py:239: UserWarning: 'verbose_eval' argument is deprecated and will be removed in a future release of LightGBM. Pass 'log_evaluation()' callback via 'callbacks' argument instead.\n",
      "  _log_warning(\"'verbose_eval' argument is deprecated and will be removed in a future release of LightGBM. \"\n"
     ]
    },
    {
     "name": "stdout",
     "output_type": "stream",
     "text": [
      "[LightGBM] [Warning] Auto-choosing col-wise multi-threading, the overhead of testing was 0.187037 seconds.\n",
      "You can set `force_col_wise=true` to remove the overhead.\n",
      "[LightGBM] [Info] Total Bins 92683\n",
      "[LightGBM] [Info] Number of data points in the train set: 16362, number of used features: 831\n",
      "[LightGBM] [Info] Start training from score 6.887269\n",
      "Training until validation scores don't improve for 50 rounds\n",
      "[50]\ttraining's l2: 1.51025\tvalid_1's l2: 2.46428\n",
      "[100]\ttraining's l2: 0.96905\tvalid_1's l2: 2.35671\n",
      "[150]\ttraining's l2: 0.642826\tvalid_1's l2: 2.31436\n",
      "[200]\ttraining's l2: 0.435751\tvalid_1's l2: 2.28671\n",
      "[250]\ttraining's l2: 0.302112\tvalid_1's l2: 2.26935\n",
      "[300]\ttraining's l2: 0.211794\tvalid_1's l2: 2.25508\n",
      "[350]\ttraining's l2: 0.153157\tvalid_1's l2: 2.24116\n",
      "[400]\ttraining's l2: 0.110695\tvalid_1's l2: 2.22849\n",
      "[450]\ttraining's l2: 0.0801588\tvalid_1's l2: 2.21712\n",
      "[500]\ttraining's l2: 0.0596981\tvalid_1's l2: 2.20908\n",
      "[550]\ttraining's l2: 0.0450793\tvalid_1's l2: 2.20764\n",
      "[600]\ttraining's l2: 0.0337023\tvalid_1's l2: 2.20293\n",
      "[650]\ttraining's l2: 0.0251609\tvalid_1's l2: 2.19971\n",
      "[700]\ttraining's l2: 0.0191605\tvalid_1's l2: 2.19652\n",
      "[750]\ttraining's l2: 0.014618\tvalid_1's l2: 2.19292\n",
      "[800]\ttraining's l2: 0.0113625\tvalid_1's l2: 2.19243\n",
      "[850]\ttraining's l2: 0.00896096\tvalid_1's l2: 2.19081\n",
      "[900]\ttraining's l2: 0.00714271\tvalid_1's l2: 2.18955\n",
      "[950]\ttraining's l2: 0.00569232\tvalid_1's l2: 2.18831\n",
      "[1000]\ttraining's l2: 0.00455718\tvalid_1's l2: 2.18716\n",
      "[1050]\ttraining's l2: 0.00369171\tvalid_1's l2: 2.18628\n",
      "Early stopping, best iteration is:\n",
      "[1046]\ttraining's l2: 0.00374207\tvalid_1's l2: 2.18606\n",
      "FOLD :  1\n"
     ]
    },
    {
     "name": "stderr",
     "output_type": "stream",
     "text": [
      "/opt/conda/lib/python3.7/site-packages/lightgbm/engine.py:177: UserWarning: Found `num_iterations` in params. Will use it instead of argument\n",
      "  _log_warning(f\"Found `{alias}` in params. Will use it instead of argument\")\n",
      "/opt/conda/lib/python3.7/site-packages/lightgbm/engine.py:181: UserWarning: 'early_stopping_rounds' argument is deprecated and will be removed in a future release of LightGBM. Pass 'early_stopping()' callback via 'callbacks' argument instead.\n",
      "  _log_warning(\"'early_stopping_rounds' argument is deprecated and will be removed in a future release of LightGBM. \"\n",
      "/opt/conda/lib/python3.7/site-packages/lightgbm/engine.py:239: UserWarning: 'verbose_eval' argument is deprecated and will be removed in a future release of LightGBM. Pass 'log_evaluation()' callback via 'callbacks' argument instead.\n",
      "  _log_warning(\"'verbose_eval' argument is deprecated and will be removed in a future release of LightGBM. \"\n"
     ]
    },
    {
     "name": "stdout",
     "output_type": "stream",
     "text": [
      "[LightGBM] [Warning] Auto-choosing col-wise multi-threading, the overhead of testing was 0.177368 seconds.\n",
      "You can set `force_col_wise=true` to remove the overhead.\n",
      "[LightGBM] [Info] Total Bins 92707\n",
      "[LightGBM] [Info] Number of data points in the train set: 16362, number of used features: 830\n",
      "[LightGBM] [Info] Start training from score 6.887392\n",
      "Training until validation scores don't improve for 50 rounds\n",
      "[50]\ttraining's l2: 1.51947\tvalid_1's l2: 2.49035\n",
      "[100]\ttraining's l2: 0.976973\tvalid_1's l2: 2.38167\n",
      "[150]\ttraining's l2: 0.651211\tvalid_1's l2: 2.33358\n",
      "[200]\ttraining's l2: 0.452677\tvalid_1's l2: 2.2944\n",
      "[250]\ttraining's l2: 0.313147\tvalid_1's l2: 2.25936\n",
      "[300]\ttraining's l2: 0.220909\tvalid_1's l2: 2.24106\n",
      "[350]\ttraining's l2: 0.156768\tvalid_1's l2: 2.22405\n",
      "[400]\ttraining's l2: 0.114265\tvalid_1's l2: 2.21564\n",
      "[450]\ttraining's l2: 0.0831919\tvalid_1's l2: 2.20744\n",
      "[500]\ttraining's l2: 0.0609212\tvalid_1's l2: 2.19471\n",
      "[550]\ttraining's l2: 0.0449273\tvalid_1's l2: 2.19263\n",
      "[600]\ttraining's l2: 0.0332152\tvalid_1's l2: 2.18988\n",
      "[650]\ttraining's l2: 0.024731\tvalid_1's l2: 2.18536\n",
      "[700]\ttraining's l2: 0.018613\tvalid_1's l2: 2.18166\n",
      "[750]\ttraining's l2: 0.0142371\tvalid_1's l2: 2.17987\n",
      "[800]\ttraining's l2: 0.0110194\tvalid_1's l2: 2.1781\n",
      "[850]\ttraining's l2: 0.00858359\tvalid_1's l2: 2.1781\n",
      "Early stopping, best iteration is:\n",
      "[832]\ttraining's l2: 0.00936582\tvalid_1's l2: 2.1776\n",
      "FOLD :  2\n"
     ]
    },
    {
     "name": "stderr",
     "output_type": "stream",
     "text": [
      "/opt/conda/lib/python3.7/site-packages/lightgbm/engine.py:177: UserWarning: Found `num_iterations` in params. Will use it instead of argument\n",
      "  _log_warning(f\"Found `{alias}` in params. Will use it instead of argument\")\n",
      "/opt/conda/lib/python3.7/site-packages/lightgbm/engine.py:181: UserWarning: 'early_stopping_rounds' argument is deprecated and will be removed in a future release of LightGBM. Pass 'early_stopping()' callback via 'callbacks' argument instead.\n",
      "  _log_warning(\"'early_stopping_rounds' argument is deprecated and will be removed in a future release of LightGBM. \"\n",
      "/opt/conda/lib/python3.7/site-packages/lightgbm/engine.py:239: UserWarning: 'verbose_eval' argument is deprecated and will be removed in a future release of LightGBM. Pass 'log_evaluation()' callback via 'callbacks' argument instead.\n",
      "  _log_warning(\"'verbose_eval' argument is deprecated and will be removed in a future release of LightGBM. \"\n"
     ]
    },
    {
     "name": "stdout",
     "output_type": "stream",
     "text": [
      "[LightGBM] [Warning] Auto-choosing col-wise multi-threading, the overhead of testing was 0.177185 seconds.\n",
      "You can set `force_col_wise=true` to remove the overhead.\n",
      "[LightGBM] [Info] Total Bins 92764\n",
      "[LightGBM] [Info] Number of data points in the train set: 16362, number of used features: 831\n",
      "[LightGBM] [Info] Start training from score 6.887605\n",
      "Training until validation scores don't improve for 50 rounds\n",
      "[50]\ttraining's l2: 1.50616\tvalid_1's l2: 2.54723\n",
      "[100]\ttraining's l2: 0.970663\tvalid_1's l2: 2.43297\n",
      "[150]\ttraining's l2: 0.66006\tvalid_1's l2: 2.39654\n",
      "[200]\ttraining's l2: 0.450968\tvalid_1's l2: 2.3538\n",
      "[250]\ttraining's l2: 0.316397\tvalid_1's l2: 2.34384\n",
      "[300]\ttraining's l2: 0.222513\tvalid_1's l2: 2.32894\n",
      "[350]\ttraining's l2: 0.160383\tvalid_1's l2: 2.31655\n",
      "[400]\ttraining's l2: 0.115102\tvalid_1's l2: 2.3105\n",
      "[450]\ttraining's l2: 0.0829226\tvalid_1's l2: 2.30288\n",
      "[500]\ttraining's l2: 0.0612522\tvalid_1's l2: 2.29738\n",
      "[550]\ttraining's l2: 0.0452205\tvalid_1's l2: 2.29126\n",
      "[600]\ttraining's l2: 0.0337572\tvalid_1's l2: 2.2863\n",
      "[650]\ttraining's l2: 0.0255322\tvalid_1's l2: 2.28401\n",
      "Early stopping, best iteration is:\n",
      "[647]\ttraining's l2: 0.0259286\tvalid_1's l2: 2.28327\n",
      "FOLD :  3\n"
     ]
    },
    {
     "name": "stderr",
     "output_type": "stream",
     "text": [
      "/opt/conda/lib/python3.7/site-packages/lightgbm/engine.py:177: UserWarning: Found `num_iterations` in params. Will use it instead of argument\n",
      "  _log_warning(f\"Found `{alias}` in params. Will use it instead of argument\")\n",
      "/opt/conda/lib/python3.7/site-packages/lightgbm/engine.py:181: UserWarning: 'early_stopping_rounds' argument is deprecated and will be removed in a future release of LightGBM. Pass 'early_stopping()' callback via 'callbacks' argument instead.\n",
      "  _log_warning(\"'early_stopping_rounds' argument is deprecated and will be removed in a future release of LightGBM. \"\n",
      "/opt/conda/lib/python3.7/site-packages/lightgbm/engine.py:239: UserWarning: 'verbose_eval' argument is deprecated and will be removed in a future release of LightGBM. Pass 'log_evaluation()' callback via 'callbacks' argument instead.\n",
      "  _log_warning(\"'verbose_eval' argument is deprecated and will be removed in a future release of LightGBM. \"\n"
     ]
    },
    {
     "name": "stdout",
     "output_type": "stream",
     "text": [
      "[LightGBM] [Warning] Auto-choosing col-wise multi-threading, the overhead of testing was 0.196052 seconds.\n",
      "You can set `force_col_wise=true` to remove the overhead.\n",
      "[LightGBM] [Info] Total Bins 92794\n",
      "[LightGBM] [Info] Number of data points in the train set: 16363, number of used features: 830\n",
      "[LightGBM] [Info] Start training from score 6.887368\n",
      "Training until validation scores don't improve for 50 rounds\n",
      "[50]\ttraining's l2: 1.52815\tvalid_1's l2: 2.36788\n",
      "[100]\ttraining's l2: 0.972858\tvalid_1's l2: 2.23083\n",
      "[150]\ttraining's l2: 0.65802\tvalid_1's l2: 2.16613\n",
      "[200]\ttraining's l2: 0.455258\tvalid_1's l2: 2.13382\n",
      "[250]\ttraining's l2: 0.318257\tvalid_1's l2: 2.11181\n",
      "[300]\ttraining's l2: 0.223163\tvalid_1's l2: 2.0924\n",
      "[350]\ttraining's l2: 0.159911\tvalid_1's l2: 2.07974\n",
      "[400]\ttraining's l2: 0.114887\tvalid_1's l2: 2.07413\n",
      "[450]\ttraining's l2: 0.082287\tvalid_1's l2: 2.07064\n",
      "[500]\ttraining's l2: 0.0597196\tvalid_1's l2: 2.06668\n",
      "[550]\ttraining's l2: 0.0441276\tvalid_1's l2: 2.0654\n",
      "[600]\ttraining's l2: 0.0329511\tvalid_1's l2: 2.0612\n",
      "[650]\ttraining's l2: 0.0250219\tvalid_1's l2: 2.05929\n",
      "[700]\ttraining's l2: 0.0189962\tvalid_1's l2: 2.0579\n",
      "[750]\ttraining's l2: 0.0145894\tvalid_1's l2: 2.05595\n",
      "[800]\ttraining's l2: 0.0112134\tvalid_1's l2: 2.05361\n",
      "[850]\ttraining's l2: 0.00869822\tvalid_1's l2: 2.05173\n",
      "[900]\ttraining's l2: 0.00698513\tvalid_1's l2: 2.05059\n",
      "Early stopping, best iteration is:\n",
      "[895]\ttraining's l2: 0.00713202\tvalid_1's l2: 2.05025\n",
      "FOLD :  4\n"
     ]
    },
    {
     "name": "stderr",
     "output_type": "stream",
     "text": [
      "/opt/conda/lib/python3.7/site-packages/lightgbm/engine.py:177: UserWarning: Found `num_iterations` in params. Will use it instead of argument\n",
      "  _log_warning(f\"Found `{alias}` in params. Will use it instead of argument\")\n",
      "/opt/conda/lib/python3.7/site-packages/lightgbm/engine.py:181: UserWarning: 'early_stopping_rounds' argument is deprecated and will be removed in a future release of LightGBM. Pass 'early_stopping()' callback via 'callbacks' argument instead.\n",
      "  _log_warning(\"'early_stopping_rounds' argument is deprecated and will be removed in a future release of LightGBM. \"\n",
      "/opt/conda/lib/python3.7/site-packages/lightgbm/engine.py:239: UserWarning: 'verbose_eval' argument is deprecated and will be removed in a future release of LightGBM. Pass 'log_evaluation()' callback via 'callbacks' argument instead.\n",
      "  _log_warning(\"'verbose_eval' argument is deprecated and will be removed in a future release of LightGBM. \"\n"
     ]
    },
    {
     "name": "stdout",
     "output_type": "stream",
     "text": [
      "[LightGBM] [Warning] Auto-choosing col-wise multi-threading, the overhead of testing was 0.262901 seconds.\n",
      "You can set `force_col_wise=true` to remove the overhead.\n",
      "[LightGBM] [Info] Total Bins 92743\n",
      "[LightGBM] [Info] Number of data points in the train set: 16363, number of used features: 830\n",
      "[LightGBM] [Info] Start training from score 6.886879\n",
      "Training until validation scores don't improve for 50 rounds\n",
      "[50]\ttraining's l2: 1.50502\tvalid_1's l2: 2.45588\n",
      "[100]\ttraining's l2: 0.981955\tvalid_1's l2: 2.36662\n",
      "[150]\ttraining's l2: 0.660816\tvalid_1's l2: 2.31032\n",
      "[200]\ttraining's l2: 0.447849\tvalid_1's l2: 2.2651\n",
      "[250]\ttraining's l2: 0.313717\tvalid_1's l2: 2.23747\n",
      "[300]\ttraining's l2: 0.220803\tvalid_1's l2: 2.2275\n",
      "[350]\ttraining's l2: 0.158236\tvalid_1's l2: 2.21769\n",
      "[400]\ttraining's l2: 0.11454\tvalid_1's l2: 2.20976\n",
      "[450]\ttraining's l2: 0.0834912\tvalid_1's l2: 2.20126\n",
      "[500]\ttraining's l2: 0.0625117\tvalid_1's l2: 2.18941\n",
      "[550]\ttraining's l2: 0.0467125\tvalid_1's l2: 2.18624\n",
      "[600]\ttraining's l2: 0.0349485\tvalid_1's l2: 2.18337\n",
      "[650]\ttraining's l2: 0.0260339\tvalid_1's l2: 2.18111\n",
      "[700]\ttraining's l2: 0.0199481\tvalid_1's l2: 2.17682\n",
      "[750]\ttraining's l2: 0.0153864\tvalid_1's l2: 2.17267\n",
      "[800]\ttraining's l2: 0.0119249\tvalid_1's l2: 2.16973\n",
      "[850]\ttraining's l2: 0.00923045\tvalid_1's l2: 2.16791\n",
      "[900]\ttraining's l2: 0.00724941\tvalid_1's l2: 2.16742\n",
      "[950]\ttraining's l2: 0.00575894\tvalid_1's l2: 2.16611\n",
      "[1000]\ttraining's l2: 0.00461676\tvalid_1's l2: 2.16544\n",
      "Early stopping, best iteration is:\n",
      "[996]\ttraining's l2: 0.00468723\tvalid_1's l2: 2.16531\n",
      "---------------------------------------\n",
      "SEED :  6\n",
      "---------------------------------------\n",
      "FOLD :  0\n"
     ]
    },
    {
     "name": "stderr",
     "output_type": "stream",
     "text": [
      "/opt/conda/lib/python3.7/site-packages/lightgbm/engine.py:177: UserWarning: Found `num_iterations` in params. Will use it instead of argument\n",
      "  _log_warning(f\"Found `{alias}` in params. Will use it instead of argument\")\n",
      "/opt/conda/lib/python3.7/site-packages/lightgbm/engine.py:181: UserWarning: 'early_stopping_rounds' argument is deprecated and will be removed in a future release of LightGBM. Pass 'early_stopping()' callback via 'callbacks' argument instead.\n",
      "  _log_warning(\"'early_stopping_rounds' argument is deprecated and will be removed in a future release of LightGBM. \"\n",
      "/opt/conda/lib/python3.7/site-packages/lightgbm/engine.py:239: UserWarning: 'verbose_eval' argument is deprecated and will be removed in a future release of LightGBM. Pass 'log_evaluation()' callback via 'callbacks' argument instead.\n",
      "  _log_warning(\"'verbose_eval' argument is deprecated and will be removed in a future release of LightGBM. \"\n"
     ]
    },
    {
     "name": "stdout",
     "output_type": "stream",
     "text": [
      "[LightGBM] [Warning] Auto-choosing col-wise multi-threading, the overhead of testing was 0.181810 seconds.\n",
      "You can set `force_col_wise=true` to remove the overhead.\n",
      "[LightGBM] [Info] Total Bins 92715\n",
      "[LightGBM] [Info] Number of data points in the train set: 16362, number of used features: 830\n",
      "[LightGBM] [Info] Start training from score 6.887269\n",
      "Training until validation scores don't improve for 50 rounds\n",
      "[50]\ttraining's l2: 1.50639\tvalid_1's l2: 2.46219\n",
      "[100]\ttraining's l2: 0.955706\tvalid_1's l2: 2.37088\n",
      "[150]\ttraining's l2: 0.652464\tvalid_1's l2: 2.32298\n",
      "[200]\ttraining's l2: 0.447318\tvalid_1's l2: 2.28698\n",
      "[250]\ttraining's l2: 0.311515\tvalid_1's l2: 2.26091\n",
      "[300]\ttraining's l2: 0.216406\tvalid_1's l2: 2.24917\n",
      "[350]\ttraining's l2: 0.154883\tvalid_1's l2: 2.23194\n",
      "[400]\ttraining's l2: 0.11023\tvalid_1's l2: 2.22266\n",
      "[450]\ttraining's l2: 0.0814573\tvalid_1's l2: 2.21526\n",
      "[500]\ttraining's l2: 0.0603024\tvalid_1's l2: 2.21165\n",
      "[550]\ttraining's l2: 0.0446403\tvalid_1's l2: 2.20832\n",
      "[600]\ttraining's l2: 0.0336165\tvalid_1's l2: 2.20555\n",
      "[650]\ttraining's l2: 0.0247475\tvalid_1's l2: 2.20212\n",
      "[700]\ttraining's l2: 0.0187174\tvalid_1's l2: 2.2\n",
      "[750]\ttraining's l2: 0.0143686\tvalid_1's l2: 2.19733\n",
      "[800]\ttraining's l2: 0.0111309\tvalid_1's l2: 2.19604\n",
      "[850]\ttraining's l2: 0.00860491\tvalid_1's l2: 2.19289\n",
      "[900]\ttraining's l2: 0.00672878\tvalid_1's l2: 2.19175\n",
      "[950]\ttraining's l2: 0.00532017\tvalid_1's l2: 2.19119\n",
      "[1000]\ttraining's l2: 0.00427768\tvalid_1's l2: 2.1914\n",
      "Early stopping, best iteration is:\n",
      "[957]\ttraining's l2: 0.00516125\tvalid_1's l2: 2.1909\n",
      "FOLD :  1\n"
     ]
    },
    {
     "name": "stderr",
     "output_type": "stream",
     "text": [
      "/opt/conda/lib/python3.7/site-packages/lightgbm/engine.py:177: UserWarning: Found `num_iterations` in params. Will use it instead of argument\n",
      "  _log_warning(f\"Found `{alias}` in params. Will use it instead of argument\")\n",
      "/opt/conda/lib/python3.7/site-packages/lightgbm/engine.py:181: UserWarning: 'early_stopping_rounds' argument is deprecated and will be removed in a future release of LightGBM. Pass 'early_stopping()' callback via 'callbacks' argument instead.\n",
      "  _log_warning(\"'early_stopping_rounds' argument is deprecated and will be removed in a future release of LightGBM. \"\n",
      "/opt/conda/lib/python3.7/site-packages/lightgbm/engine.py:239: UserWarning: 'verbose_eval' argument is deprecated and will be removed in a future release of LightGBM. Pass 'log_evaluation()' callback via 'callbacks' argument instead.\n",
      "  _log_warning(\"'verbose_eval' argument is deprecated and will be removed in a future release of LightGBM. \"\n"
     ]
    },
    {
     "name": "stdout",
     "output_type": "stream",
     "text": [
      "[LightGBM] [Warning] Auto-choosing col-wise multi-threading, the overhead of testing was 0.184137 seconds.\n",
      "You can set `force_col_wise=true` to remove the overhead.\n",
      "[LightGBM] [Info] Total Bins 92770\n",
      "[LightGBM] [Info] Number of data points in the train set: 16362, number of used features: 831\n",
      "[LightGBM] [Info] Start training from score 6.887392\n",
      "Training until validation scores don't improve for 50 rounds\n",
      "[50]\ttraining's l2: 1.52638\tvalid_1's l2: 2.40325\n",
      "[100]\ttraining's l2: 0.966941\tvalid_1's l2: 2.30372\n",
      "[150]\ttraining's l2: 0.654317\tvalid_1's l2: 2.26374\n",
      "[200]\ttraining's l2: 0.443758\tvalid_1's l2: 2.24431\n",
      "[250]\ttraining's l2: 0.311746\tvalid_1's l2: 2.229\n",
      "[300]\ttraining's l2: 0.219652\tvalid_1's l2: 2.21047\n",
      "[350]\ttraining's l2: 0.156402\tvalid_1's l2: 2.20261\n",
      "[400]\ttraining's l2: 0.111728\tvalid_1's l2: 2.19829\n",
      "[450]\ttraining's l2: 0.0799962\tvalid_1's l2: 2.18797\n",
      "[500]\ttraining's l2: 0.0582522\tvalid_1's l2: 2.18156\n",
      "[550]\ttraining's l2: 0.0436862\tvalid_1's l2: 2.17742\n",
      "[600]\ttraining's l2: 0.0326121\tvalid_1's l2: 2.17195\n",
      "[650]\ttraining's l2: 0.0243293\tvalid_1's l2: 2.16916\n",
      "[700]\ttraining's l2: 0.0184351\tvalid_1's l2: 2.16651\n",
      "[750]\ttraining's l2: 0.0140487\tvalid_1's l2: 2.16415\n",
      "[800]\ttraining's l2: 0.0107869\tvalid_1's l2: 2.16325\n",
      "[850]\ttraining's l2: 0.00836043\tvalid_1's l2: 2.16313\n",
      "Early stopping, best iteration is:\n",
      "[808]\ttraining's l2: 0.0103256\tvalid_1's l2: 2.1627\n",
      "FOLD :  2\n"
     ]
    },
    {
     "name": "stderr",
     "output_type": "stream",
     "text": [
      "/opt/conda/lib/python3.7/site-packages/lightgbm/engine.py:177: UserWarning: Found `num_iterations` in params. Will use it instead of argument\n",
      "  _log_warning(f\"Found `{alias}` in params. Will use it instead of argument\")\n",
      "/opt/conda/lib/python3.7/site-packages/lightgbm/engine.py:181: UserWarning: 'early_stopping_rounds' argument is deprecated and will be removed in a future release of LightGBM. Pass 'early_stopping()' callback via 'callbacks' argument instead.\n",
      "  _log_warning(\"'early_stopping_rounds' argument is deprecated and will be removed in a future release of LightGBM. \"\n",
      "/opt/conda/lib/python3.7/site-packages/lightgbm/engine.py:239: UserWarning: 'verbose_eval' argument is deprecated and will be removed in a future release of LightGBM. Pass 'log_evaluation()' callback via 'callbacks' argument instead.\n",
      "  _log_warning(\"'verbose_eval' argument is deprecated and will be removed in a future release of LightGBM. \"\n"
     ]
    },
    {
     "name": "stdout",
     "output_type": "stream",
     "text": [
      "[LightGBM] [Warning] Auto-choosing col-wise multi-threading, the overhead of testing was 0.165422 seconds.\n",
      "You can set `force_col_wise=true` to remove the overhead.\n",
      "[LightGBM] [Info] Total Bins 92819\n",
      "[LightGBM] [Info] Number of data points in the train set: 16362, number of used features: 831\n",
      "[LightGBM] [Info] Start training from score 6.887605\n",
      "Training until validation scores don't improve for 50 rounds\n",
      "[50]\ttraining's l2: 1.52069\tvalid_1's l2: 2.50265\n",
      "[100]\ttraining's l2: 0.976531\tvalid_1's l2: 2.39778\n",
      "[150]\ttraining's l2: 0.660604\tvalid_1's l2: 2.33447\n",
      "[200]\ttraining's l2: 0.458587\tvalid_1's l2: 2.28874\n",
      "[250]\ttraining's l2: 0.321808\tvalid_1's l2: 2.25049\n",
      "[300]\ttraining's l2: 0.224214\tvalid_1's l2: 2.22287\n",
      "[350]\ttraining's l2: 0.162084\tvalid_1's l2: 2.20259\n",
      "[400]\ttraining's l2: 0.116302\tvalid_1's l2: 2.19937\n",
      "[450]\ttraining's l2: 0.085396\tvalid_1's l2: 2.19113\n",
      "[500]\ttraining's l2: 0.0633273\tvalid_1's l2: 2.18827\n",
      "[550]\ttraining's l2: 0.0465593\tvalid_1's l2: 2.18571\n",
      "[600]\ttraining's l2: 0.0342198\tvalid_1's l2: 2.18028\n",
      "[650]\ttraining's l2: 0.0255515\tvalid_1's l2: 2.17601\n",
      "[700]\ttraining's l2: 0.0194831\tvalid_1's l2: 2.17517\n",
      "[750]\ttraining's l2: 0.0149974\tvalid_1's l2: 2.17161\n",
      "[800]\ttraining's l2: 0.0115061\tvalid_1's l2: 2.16954\n",
      "[850]\ttraining's l2: 0.00906351\tvalid_1's l2: 2.16756\n",
      "[900]\ttraining's l2: 0.00715365\tvalid_1's l2: 2.16682\n",
      "[950]\ttraining's l2: 0.00573006\tvalid_1's l2: 2.16579\n",
      "[1000]\ttraining's l2: 0.00465796\tvalid_1's l2: 2.16527\n",
      "[1050]\ttraining's l2: 0.0037961\tvalid_1's l2: 2.1639\n",
      "[1100]\ttraining's l2: 0.0031197\tvalid_1's l2: 2.16306\n",
      "[1150]\ttraining's l2: 0.00254918\tvalid_1's l2: 2.16204\n",
      "Early stopping, best iteration is:\n",
      "[1135]\ttraining's l2: 0.00270534\tvalid_1's l2: 2.1619\n",
      "FOLD :  3\n"
     ]
    },
    {
     "name": "stderr",
     "output_type": "stream",
     "text": [
      "/opt/conda/lib/python3.7/site-packages/lightgbm/engine.py:177: UserWarning: Found `num_iterations` in params. Will use it instead of argument\n",
      "  _log_warning(f\"Found `{alias}` in params. Will use it instead of argument\")\n",
      "/opt/conda/lib/python3.7/site-packages/lightgbm/engine.py:181: UserWarning: 'early_stopping_rounds' argument is deprecated and will be removed in a future release of LightGBM. Pass 'early_stopping()' callback via 'callbacks' argument instead.\n",
      "  _log_warning(\"'early_stopping_rounds' argument is deprecated and will be removed in a future release of LightGBM. \"\n",
      "/opt/conda/lib/python3.7/site-packages/lightgbm/engine.py:239: UserWarning: 'verbose_eval' argument is deprecated and will be removed in a future release of LightGBM. Pass 'log_evaluation()' callback via 'callbacks' argument instead.\n",
      "  _log_warning(\"'verbose_eval' argument is deprecated and will be removed in a future release of LightGBM. \"\n"
     ]
    },
    {
     "name": "stdout",
     "output_type": "stream",
     "text": [
      "[LightGBM] [Warning] Auto-choosing col-wise multi-threading, the overhead of testing was 0.175370 seconds.\n",
      "You can set `force_col_wise=true` to remove the overhead.\n",
      "[LightGBM] [Info] Total Bins 92696\n",
      "[LightGBM] [Info] Number of data points in the train set: 16363, number of used features: 831\n",
      "[LightGBM] [Info] Start training from score 6.887368\n",
      "Training until validation scores don't improve for 50 rounds\n",
      "[50]\ttraining's l2: 1.49613\tvalid_1's l2: 2.46558\n",
      "[100]\ttraining's l2: 0.961331\tvalid_1's l2: 2.37809\n",
      "[150]\ttraining's l2: 0.641262\tvalid_1's l2: 2.32753\n",
      "[200]\ttraining's l2: 0.438887\tvalid_1's l2: 2.30295\n",
      "[250]\ttraining's l2: 0.306704\tvalid_1's l2: 2.28309\n",
      "[300]\ttraining's l2: 0.217354\tvalid_1's l2: 2.27359\n",
      "[350]\ttraining's l2: 0.153924\tvalid_1's l2: 2.26184\n",
      "[400]\ttraining's l2: 0.111202\tvalid_1's l2: 2.24832\n",
      "[450]\ttraining's l2: 0.0801587\tvalid_1's l2: 2.23101\n",
      "[500]\ttraining's l2: 0.0592639\tvalid_1's l2: 2.22242\n",
      "[550]\ttraining's l2: 0.0438564\tvalid_1's l2: 2.21262\n",
      "[600]\ttraining's l2: 0.0324461\tvalid_1's l2: 2.21007\n",
      "[650]\ttraining's l2: 0.0249377\tvalid_1's l2: 2.20672\n",
      "[700]\ttraining's l2: 0.019245\tvalid_1's l2: 2.20206\n",
      "[750]\ttraining's l2: 0.0146068\tvalid_1's l2: 2.1995\n",
      "[800]\ttraining's l2: 0.0113762\tvalid_1's l2: 2.19621\n",
      "[850]\ttraining's l2: 0.00894116\tvalid_1's l2: 2.19477\n",
      "[900]\ttraining's l2: 0.00726894\tvalid_1's l2: 2.19241\n",
      "[950]\ttraining's l2: 0.00573036\tvalid_1's l2: 2.1894\n",
      "[1000]\ttraining's l2: 0.00475373\tvalid_1's l2: 2.18895\n",
      "[1050]\ttraining's l2: 0.00385406\tvalid_1's l2: 2.18736\n",
      "[1100]\ttraining's l2: 0.00316456\tvalid_1's l2: 2.18698\n",
      "Early stopping, best iteration is:\n",
      "[1088]\ttraining's l2: 0.00332196\tvalid_1's l2: 2.18675\n",
      "FOLD :  4\n"
     ]
    },
    {
     "name": "stderr",
     "output_type": "stream",
     "text": [
      "/opt/conda/lib/python3.7/site-packages/lightgbm/engine.py:177: UserWarning: Found `num_iterations` in params. Will use it instead of argument\n",
      "  _log_warning(f\"Found `{alias}` in params. Will use it instead of argument\")\n",
      "/opt/conda/lib/python3.7/site-packages/lightgbm/engine.py:181: UserWarning: 'early_stopping_rounds' argument is deprecated and will be removed in a future release of LightGBM. Pass 'early_stopping()' callback via 'callbacks' argument instead.\n",
      "  _log_warning(\"'early_stopping_rounds' argument is deprecated and will be removed in a future release of LightGBM. \"\n",
      "/opt/conda/lib/python3.7/site-packages/lightgbm/engine.py:239: UserWarning: 'verbose_eval' argument is deprecated and will be removed in a future release of LightGBM. Pass 'log_evaluation()' callback via 'callbacks' argument instead.\n",
      "  _log_warning(\"'verbose_eval' argument is deprecated and will be removed in a future release of LightGBM. \"\n"
     ]
    },
    {
     "name": "stdout",
     "output_type": "stream",
     "text": [
      "[LightGBM] [Warning] Auto-choosing col-wise multi-threading, the overhead of testing was 0.168524 seconds.\n",
      "You can set `force_col_wise=true` to remove the overhead.\n",
      "[LightGBM] [Info] Total Bins 92749\n",
      "[LightGBM] [Info] Number of data points in the train set: 16363, number of used features: 831\n",
      "[LightGBM] [Info] Start training from score 6.886879\n",
      "Training until validation scores don't improve for 50 rounds\n",
      "[50]\ttraining's l2: 1.50499\tvalid_1's l2: 2.43508\n",
      "[100]\ttraining's l2: 0.970319\tvalid_1's l2: 2.32868\n",
      "[150]\ttraining's l2: 0.650711\tvalid_1's l2: 2.28205\n",
      "[200]\ttraining's l2: 0.448725\tvalid_1's l2: 2.2477\n",
      "[250]\ttraining's l2: 0.311312\tvalid_1's l2: 2.22871\n",
      "[300]\ttraining's l2: 0.219628\tvalid_1's l2: 2.20627\n",
      "[350]\ttraining's l2: 0.156813\tvalid_1's l2: 2.1929\n",
      "[400]\ttraining's l2: 0.112156\tvalid_1's l2: 2.18849\n",
      "[450]\ttraining's l2: 0.0808967\tvalid_1's l2: 2.17319\n",
      "[500]\ttraining's l2: 0.0592013\tvalid_1's l2: 2.16727\n",
      "[550]\ttraining's l2: 0.0446859\tvalid_1's l2: 2.16046\n",
      "[600]\ttraining's l2: 0.0334098\tvalid_1's l2: 2.15679\n",
      "[650]\ttraining's l2: 0.0251062\tvalid_1's l2: 2.15429\n",
      "[700]\ttraining's l2: 0.0193714\tvalid_1's l2: 2.15617\n",
      "Early stopping, best iteration is:\n",
      "[650]\ttraining's l2: 0.0251062\tvalid_1's l2: 2.15429\n",
      "---------------------------------------\n",
      "SEED :  7\n",
      "---------------------------------------\n",
      "FOLD :  0\n"
     ]
    },
    {
     "name": "stderr",
     "output_type": "stream",
     "text": [
      "/opt/conda/lib/python3.7/site-packages/lightgbm/engine.py:177: UserWarning: Found `num_iterations` in params. Will use it instead of argument\n",
      "  _log_warning(f\"Found `{alias}` in params. Will use it instead of argument\")\n",
      "/opt/conda/lib/python3.7/site-packages/lightgbm/engine.py:181: UserWarning: 'early_stopping_rounds' argument is deprecated and will be removed in a future release of LightGBM. Pass 'early_stopping()' callback via 'callbacks' argument instead.\n",
      "  _log_warning(\"'early_stopping_rounds' argument is deprecated and will be removed in a future release of LightGBM. \"\n",
      "/opt/conda/lib/python3.7/site-packages/lightgbm/engine.py:239: UserWarning: 'verbose_eval' argument is deprecated and will be removed in a future release of LightGBM. Pass 'log_evaluation()' callback via 'callbacks' argument instead.\n",
      "  _log_warning(\"'verbose_eval' argument is deprecated and will be removed in a future release of LightGBM. \"\n"
     ]
    },
    {
     "name": "stdout",
     "output_type": "stream",
     "text": [
      "[LightGBM] [Warning] Auto-choosing col-wise multi-threading, the overhead of testing was 0.170126 seconds.\n",
      "You can set `force_col_wise=true` to remove the overhead.\n",
      "[LightGBM] [Info] Total Bins 92681\n",
      "[LightGBM] [Info] Number of data points in the train set: 16362, number of used features: 830\n",
      "[LightGBM] [Info] Start training from score 6.887269\n",
      "Training until validation scores don't improve for 50 rounds\n",
      "[50]\ttraining's l2: 1.51097\tvalid_1's l2: 2.45406\n",
      "[100]\ttraining's l2: 0.970249\tvalid_1's l2: 2.33553\n",
      "[150]\ttraining's l2: 0.660277\tvalid_1's l2: 2.28382\n",
      "[200]\ttraining's l2: 0.453814\tvalid_1's l2: 2.25638\n",
      "[250]\ttraining's l2: 0.314799\tvalid_1's l2: 2.23997\n",
      "[300]\ttraining's l2: 0.223716\tvalid_1's l2: 2.21642\n",
      "[350]\ttraining's l2: 0.159872\tvalid_1's l2: 2.20697\n",
      "[400]\ttraining's l2: 0.114877\tvalid_1's l2: 2.1986\n",
      "[450]\ttraining's l2: 0.0833523\tvalid_1's l2: 2.18545\n",
      "[500]\ttraining's l2: 0.0619032\tvalid_1's l2: 2.18156\n",
      "[550]\ttraining's l2: 0.0457766\tvalid_1's l2: 2.17299\n",
      "[600]\ttraining's l2: 0.0336997\tvalid_1's l2: 2.1662\n",
      "[650]\ttraining's l2: 0.0258513\tvalid_1's l2: 2.16306\n",
      "[700]\ttraining's l2: 0.0199829\tvalid_1's l2: 2.15808\n",
      "[750]\ttraining's l2: 0.0151207\tvalid_1's l2: 2.15499\n",
      "[800]\ttraining's l2: 0.0115943\tvalid_1's l2: 2.1528\n",
      "[850]\ttraining's l2: 0.00898253\tvalid_1's l2: 2.15205\n",
      "Early stopping, best iteration is:\n",
      "[829]\ttraining's l2: 0.00997694\tvalid_1's l2: 2.15178\n",
      "FOLD :  1\n"
     ]
    },
    {
     "name": "stderr",
     "output_type": "stream",
     "text": [
      "/opt/conda/lib/python3.7/site-packages/lightgbm/engine.py:177: UserWarning: Found `num_iterations` in params. Will use it instead of argument\n",
      "  _log_warning(f\"Found `{alias}` in params. Will use it instead of argument\")\n",
      "/opt/conda/lib/python3.7/site-packages/lightgbm/engine.py:181: UserWarning: 'early_stopping_rounds' argument is deprecated and will be removed in a future release of LightGBM. Pass 'early_stopping()' callback via 'callbacks' argument instead.\n",
      "  _log_warning(\"'early_stopping_rounds' argument is deprecated and will be removed in a future release of LightGBM. \"\n",
      "/opt/conda/lib/python3.7/site-packages/lightgbm/engine.py:239: UserWarning: 'verbose_eval' argument is deprecated and will be removed in a future release of LightGBM. Pass 'log_evaluation()' callback via 'callbacks' argument instead.\n",
      "  _log_warning(\"'verbose_eval' argument is deprecated and will be removed in a future release of LightGBM. \"\n"
     ]
    },
    {
     "name": "stdout",
     "output_type": "stream",
     "text": [
      "[LightGBM] [Warning] Auto-choosing col-wise multi-threading, the overhead of testing was 0.155062 seconds.\n",
      "You can set `force_col_wise=true` to remove the overhead.\n",
      "[LightGBM] [Info] Total Bins 92726\n",
      "[LightGBM] [Info] Number of data points in the train set: 16362, number of used features: 832\n",
      "[LightGBM] [Info] Start training from score 6.887392\n",
      "Training until validation scores don't improve for 50 rounds\n",
      "[50]\ttraining's l2: 1.50577\tvalid_1's l2: 2.44596\n",
      "[100]\ttraining's l2: 0.955081\tvalid_1's l2: 2.33616\n",
      "[150]\ttraining's l2: 0.641616\tvalid_1's l2: 2.29261\n",
      "[200]\ttraining's l2: 0.436842\tvalid_1's l2: 2.25778\n",
      "[250]\ttraining's l2: 0.307008\tvalid_1's l2: 2.22601\n",
      "[300]\ttraining's l2: 0.21992\tvalid_1's l2: 2.20311\n",
      "[350]\ttraining's l2: 0.157008\tvalid_1's l2: 2.18513\n",
      "[400]\ttraining's l2: 0.112119\tvalid_1's l2: 2.18042\n",
      "[450]\ttraining's l2: 0.0827047\tvalid_1's l2: 2.17484\n",
      "[500]\ttraining's l2: 0.060793\tvalid_1's l2: 2.17054\n",
      "[550]\ttraining's l2: 0.0458908\tvalid_1's l2: 2.1669\n",
      "[600]\ttraining's l2: 0.0343437\tvalid_1's l2: 2.16017\n",
      "[650]\ttraining's l2: 0.0257909\tvalid_1's l2: 2.16001\n",
      "Early stopping, best iteration is:\n",
      "[622]\ttraining's l2: 0.0303273\tvalid_1's l2: 2.15856\n",
      "FOLD :  2\n"
     ]
    },
    {
     "name": "stderr",
     "output_type": "stream",
     "text": [
      "/opt/conda/lib/python3.7/site-packages/lightgbm/engine.py:177: UserWarning: Found `num_iterations` in params. Will use it instead of argument\n",
      "  _log_warning(f\"Found `{alias}` in params. Will use it instead of argument\")\n",
      "/opt/conda/lib/python3.7/site-packages/lightgbm/engine.py:181: UserWarning: 'early_stopping_rounds' argument is deprecated and will be removed in a future release of LightGBM. Pass 'early_stopping()' callback via 'callbacks' argument instead.\n",
      "  _log_warning(\"'early_stopping_rounds' argument is deprecated and will be removed in a future release of LightGBM. \"\n",
      "/opt/conda/lib/python3.7/site-packages/lightgbm/engine.py:239: UserWarning: 'verbose_eval' argument is deprecated and will be removed in a future release of LightGBM. Pass 'log_evaluation()' callback via 'callbacks' argument instead.\n",
      "  _log_warning(\"'verbose_eval' argument is deprecated and will be removed in a future release of LightGBM. \"\n"
     ]
    },
    {
     "name": "stdout",
     "output_type": "stream",
     "text": [
      "[LightGBM] [Warning] Auto-choosing col-wise multi-threading, the overhead of testing was 0.170051 seconds.\n",
      "You can set `force_col_wise=true` to remove the overhead.\n",
      "[LightGBM] [Info] Total Bins 92732\n",
      "[LightGBM] [Info] Number of data points in the train set: 16362, number of used features: 830\n",
      "[LightGBM] [Info] Start training from score 6.887605\n",
      "Training until validation scores don't improve for 50 rounds\n",
      "[50]\ttraining's l2: 1.53103\tvalid_1's l2: 2.44663\n",
      "[100]\ttraining's l2: 0.985389\tvalid_1's l2: 2.33752\n",
      "[150]\ttraining's l2: 0.65752\tvalid_1's l2: 2.29476\n",
      "[200]\ttraining's l2: 0.456418\tvalid_1's l2: 2.27033\n",
      "[250]\ttraining's l2: 0.319024\tvalid_1's l2: 2.2394\n",
      "[300]\ttraining's l2: 0.227356\tvalid_1's l2: 2.22081\n",
      "[350]\ttraining's l2: 0.159839\tvalid_1's l2: 2.20831\n",
      "[400]\ttraining's l2: 0.115745\tvalid_1's l2: 2.19171\n",
      "[450]\ttraining's l2: 0.0834307\tvalid_1's l2: 2.1806\n",
      "[500]\ttraining's l2: 0.0605904\tvalid_1's l2: 2.16987\n",
      "[550]\ttraining's l2: 0.0448132\tvalid_1's l2: 2.16363\n",
      "[600]\ttraining's l2: 0.0335872\tvalid_1's l2: 2.16038\n",
      "[650]\ttraining's l2: 0.0250178\tvalid_1's l2: 2.15607\n",
      "[700]\ttraining's l2: 0.01912\tvalid_1's l2: 2.15212\n",
      "[750]\ttraining's l2: 0.014729\tvalid_1's l2: 2.14932\n",
      "[800]\ttraining's l2: 0.0112591\tvalid_1's l2: 2.14609\n",
      "[850]\ttraining's l2: 0.00865831\tvalid_1's l2: 2.14507\n",
      "[900]\ttraining's l2: 0.00674596\tvalid_1's l2: 2.14399\n",
      "[950]\ttraining's l2: 0.00538115\tvalid_1's l2: 2.14303\n",
      "[1000]\ttraining's l2: 0.00427244\tvalid_1's l2: 2.14097\n",
      "[1050]\ttraining's l2: 0.00346784\tvalid_1's l2: 2.14024\n",
      "[1100]\ttraining's l2: 0.00281554\tvalid_1's l2: 2.13947\n",
      "[1150]\ttraining's l2: 0.00231502\tvalid_1's l2: 2.13889\n",
      "[1200]\ttraining's l2: 0.00192478\tvalid_1's l2: 2.13853\n",
      "[1250]\ttraining's l2: 0.00159994\tvalid_1's l2: 2.13828\n",
      "[1300]\ttraining's l2: 0.00134098\tvalid_1's l2: 2.13758\n",
      "[1350]\ttraining's l2: 0.00114356\tvalid_1's l2: 2.13749\n",
      "Early stopping, best iteration is:\n",
      "[1319]\ttraining's l2: 0.00126119\tvalid_1's l2: 2.13739\n",
      "FOLD :  3\n"
     ]
    },
    {
     "name": "stderr",
     "output_type": "stream",
     "text": [
      "/opt/conda/lib/python3.7/site-packages/lightgbm/engine.py:177: UserWarning: Found `num_iterations` in params. Will use it instead of argument\n",
      "  _log_warning(f\"Found `{alias}` in params. Will use it instead of argument\")\n",
      "/opt/conda/lib/python3.7/site-packages/lightgbm/engine.py:181: UserWarning: 'early_stopping_rounds' argument is deprecated and will be removed in a future release of LightGBM. Pass 'early_stopping()' callback via 'callbacks' argument instead.\n",
      "  _log_warning(\"'early_stopping_rounds' argument is deprecated and will be removed in a future release of LightGBM. \"\n",
      "/opt/conda/lib/python3.7/site-packages/lightgbm/engine.py:239: UserWarning: 'verbose_eval' argument is deprecated and will be removed in a future release of LightGBM. Pass 'log_evaluation()' callback via 'callbacks' argument instead.\n",
      "  _log_warning(\"'verbose_eval' argument is deprecated and will be removed in a future release of LightGBM. \"\n"
     ]
    },
    {
     "name": "stdout",
     "output_type": "stream",
     "text": [
      "[LightGBM] [Warning] Auto-choosing col-wise multi-threading, the overhead of testing was 0.154986 seconds.\n",
      "You can set `force_col_wise=true` to remove the overhead.\n",
      "[LightGBM] [Info] Total Bins 92791\n",
      "[LightGBM] [Info] Number of data points in the train set: 16363, number of used features: 831\n",
      "[LightGBM] [Info] Start training from score 6.887368\n",
      "Training until validation scores don't improve for 50 rounds\n",
      "[50]\ttraining's l2: 1.51127\tvalid_1's l2: 2.47348\n",
      "[100]\ttraining's l2: 0.945848\tvalid_1's l2: 2.38677\n",
      "[150]\ttraining's l2: 0.644664\tvalid_1's l2: 2.34094\n",
      "[200]\ttraining's l2: 0.445829\tvalid_1's l2: 2.30557\n",
      "[250]\ttraining's l2: 0.30905\tvalid_1's l2: 2.28453\n",
      "[300]\ttraining's l2: 0.219063\tvalid_1's l2: 2.26793\n",
      "[350]\ttraining's l2: 0.154531\tvalid_1's l2: 2.25494\n",
      "[400]\ttraining's l2: 0.112357\tvalid_1's l2: 2.25482\n",
      "[450]\ttraining's l2: 0.0817455\tvalid_1's l2: 2.24482\n",
      "[500]\ttraining's l2: 0.0600827\tvalid_1's l2: 2.23621\n",
      "[550]\ttraining's l2: 0.0444523\tvalid_1's l2: 2.23007\n",
      "[600]\ttraining's l2: 0.0335016\tvalid_1's l2: 2.22542\n",
      "[650]\ttraining's l2: 0.0255884\tvalid_1's l2: 2.22146\n",
      "[700]\ttraining's l2: 0.0195393\tvalid_1's l2: 2.22002\n",
      "[750]\ttraining's l2: 0.0149389\tvalid_1's l2: 2.21707\n",
      "[800]\ttraining's l2: 0.0115901\tvalid_1's l2: 2.21471\n",
      "[850]\ttraining's l2: 0.00899529\tvalid_1's l2: 2.21255\n",
      "[900]\ttraining's l2: 0.0071524\tvalid_1's l2: 2.21101\n",
      "[950]\ttraining's l2: 0.00574078\tvalid_1's l2: 2.21136\n",
      "Early stopping, best iteration is:\n",
      "[911]\ttraining's l2: 0.00678917\tvalid_1's l2: 2.21095\n",
      "FOLD :  4\n"
     ]
    },
    {
     "name": "stderr",
     "output_type": "stream",
     "text": [
      "/opt/conda/lib/python3.7/site-packages/lightgbm/engine.py:177: UserWarning: Found `num_iterations` in params. Will use it instead of argument\n",
      "  _log_warning(f\"Found `{alias}` in params. Will use it instead of argument\")\n",
      "/opt/conda/lib/python3.7/site-packages/lightgbm/engine.py:181: UserWarning: 'early_stopping_rounds' argument is deprecated and will be removed in a future release of LightGBM. Pass 'early_stopping()' callback via 'callbacks' argument instead.\n",
      "  _log_warning(\"'early_stopping_rounds' argument is deprecated and will be removed in a future release of LightGBM. \"\n",
      "/opt/conda/lib/python3.7/site-packages/lightgbm/engine.py:239: UserWarning: 'verbose_eval' argument is deprecated and will be removed in a future release of LightGBM. Pass 'log_evaluation()' callback via 'callbacks' argument instead.\n",
      "  _log_warning(\"'verbose_eval' argument is deprecated and will be removed in a future release of LightGBM. \"\n"
     ]
    },
    {
     "name": "stdout",
     "output_type": "stream",
     "text": [
      "[LightGBM] [Warning] Auto-choosing col-wise multi-threading, the overhead of testing was 0.171727 seconds.\n",
      "You can set `force_col_wise=true` to remove the overhead.\n",
      "[LightGBM] [Info] Total Bins 92736\n",
      "[LightGBM] [Info] Number of data points in the train set: 16363, number of used features: 831\n",
      "[LightGBM] [Info] Start training from score 6.886879\n",
      "Training until validation scores don't improve for 50 rounds\n",
      "[50]\ttraining's l2: 1.52867\tvalid_1's l2: 2.41896\n",
      "[100]\ttraining's l2: 0.985515\tvalid_1's l2: 2.33017\n",
      "[150]\ttraining's l2: 0.656554\tvalid_1's l2: 2.25552\n",
      "[200]\ttraining's l2: 0.448527\tvalid_1's l2: 2.21934\n",
      "[250]\ttraining's l2: 0.313019\tvalid_1's l2: 2.19726\n",
      "[300]\ttraining's l2: 0.217985\tvalid_1's l2: 2.17655\n",
      "[350]\ttraining's l2: 0.156321\tvalid_1's l2: 2.1649\n",
      "[400]\ttraining's l2: 0.112826\tvalid_1's l2: 2.15456\n",
      "[450]\ttraining's l2: 0.0817463\tvalid_1's l2: 2.14519\n",
      "[500]\ttraining's l2: 0.0588842\tvalid_1's l2: 2.13875\n",
      "[550]\ttraining's l2: 0.0437436\tvalid_1's l2: 2.13696\n",
      "[600]\ttraining's l2: 0.0326812\tvalid_1's l2: 2.13086\n",
      "[650]\ttraining's l2: 0.0245415\tvalid_1's l2: 2.12772\n",
      "[700]\ttraining's l2: 0.0186714\tvalid_1's l2: 2.124\n",
      "[750]\ttraining's l2: 0.0140846\tvalid_1's l2: 2.12037\n",
      "[800]\ttraining's l2: 0.0109194\tvalid_1's l2: 2.11835\n",
      "[850]\ttraining's l2: 0.00861122\tvalid_1's l2: 2.11707\n",
      "[900]\ttraining's l2: 0.00690054\tvalid_1's l2: 2.11618\n",
      "[950]\ttraining's l2: 0.00550753\tvalid_1's l2: 2.114\n",
      "[1000]\ttraining's l2: 0.00450048\tvalid_1's l2: 2.11349\n",
      "[1050]\ttraining's l2: 0.00367659\tvalid_1's l2: 2.11282\n",
      "[1100]\ttraining's l2: 0.0030114\tvalid_1's l2: 2.11169\n",
      "[1150]\ttraining's l2: 0.00245813\tvalid_1's l2: 2.11079\n",
      "[1200]\ttraining's l2: 0.00207286\tvalid_1's l2: 2.11054\n",
      "[1250]\ttraining's l2: 0.00176878\tvalid_1's l2: 2.11021\n",
      "[1300]\ttraining's l2: 0.00149274\tvalid_1's l2: 2.11024\n",
      "Early stopping, best iteration is:\n",
      "[1277]\ttraining's l2: 0.00162015\tvalid_1's l2: 2.10995\n"
     ]
    }
   ],
   "source": [
    "N_folds = 5\n",
    "seeds = [16, 6, 7]\n",
    "\n",
    "data_preds = np.zeros((data.shape[0]))\n",
    "test_preds = np.zeros((test.shape[0]))\n",
    "\n",
    "feature_importance = pd.DataFrame()\n",
    "fold_scores = []\n",
    "\n",
    "for seed in seeds:\n",
    "    print('---------------------------------------')\n",
    "    print('SEED : ', seed)\n",
    "    print('---------------------------------------')\n",
    "    \n",
    "    \n",
    "    data['fold'] = -1\n",
    "    skf = StratifiedKFold(n_splits=N_folds, shuffle=True, random_state=seed)\n",
    "    for f, (_, idxs) in enumerate(skf.split(data,data['rating_num'].apply(lambda x: int(2*x)))):\n",
    "        data.loc[idxs, 'fold'] = f\n",
    "        \n",
    "    for F in range(N_folds):\n",
    "        \n",
    "        print('FOLD : ', F)\n",
    "        \n",
    "        train = data[data['fold'] != F].reset_index(drop=True)\n",
    "        valid = data[data['fold'] == F].reset_index(drop=True)\n",
    "        \n",
    "        \n",
    "        train_dataset = lgb.Dataset(train[cols], train['rating_num'])\n",
    "        valid_dataset = lgb.Dataset(valid[cols], valid['rating_num'])\n",
    "        \n",
    "        model = lgb.train(params = lgb_params,\n",
    "                          num_boost_round=5000,\n",
    "                          train_set = train_dataset, \n",
    "                          valid_sets = [train_dataset, valid_dataset], \n",
    "                          verbose_eval = 50,\n",
    "                          early_stopping_rounds=50)\n",
    "        \n",
    "        del train_dataset, valid_dataset\n",
    "        \n",
    "        fold_importance = pd.DataFrame()\n",
    "        fold_importance[\"feature\"] = cols\n",
    "        fold_importance[\"importance\"] = model.feature_importance()\n",
    "        fold_importance[\"fold\"] = F + 1\n",
    "        feature_importance = pd.concat([feature_importance, fold_importance], axis=0)\n",
    "        \n",
    "        \n",
    "        preds = model.predict(valid[cols])\n",
    "        data_preds[data[data['fold'] == F].index] += preds\n",
    "        \n",
    "        fold_scores.append(r2_score(valid['rating_num'], preds))\n",
    "        \n",
    "        preds = model.predict(test[cols])\n",
    "        test_preds += preds"
   ]
  },
  {
   "cell_type": "code",
   "execution_count": 6,
   "id": "a7b27265",
   "metadata": {
    "execution": {
     "iopub.execute_input": "2022-06-12T19:05:22.475836Z",
     "iopub.status.busy": "2022-06-12T19:05:22.475278Z",
     "iopub.status.idle": "2022-06-12T19:05:22.483459Z",
     "shell.execute_reply": "2022-06-12T19:05:22.482733Z"
    },
    "papermill": {
     "duration": 0.044221,
     "end_time": "2022-06-12T19:05:22.485840",
     "exception": false,
     "start_time": "2022-06-12T19:05:22.441619",
     "status": "completed"
    },
    "tags": []
   },
   "outputs": [
    {
     "name": "stdout",
     "output_type": "stream",
     "text": [
      "[0.36201838091923677, 0.3655518867391906, 0.3350943410060617, 0.40335025608009323, 0.3680578213315344, 0.3606055663487977, 0.3698945402471234, 0.3704384267878915, 0.36362658627774624, 0.37127321763323706, 0.3720220988317975, 0.37110153067295293, 0.3775758156997937, 0.3565818719065156, 0.3842137928187258]\n"
     ]
    }
   ],
   "source": [
    "print(fold_scores) "
   ]
  },
  {
   "cell_type": "code",
   "execution_count": 7,
   "id": "bf1856df",
   "metadata": {
    "execution": {
     "iopub.execute_input": "2022-06-12T19:05:22.551458Z",
     "iopub.status.busy": "2022-06-12T19:05:22.550818Z",
     "iopub.status.idle": "2022-06-12T19:05:22.555498Z",
     "shell.execute_reply": "2022-06-12T19:05:22.554782Z"
    },
    "papermill": {
     "duration": 0.039994,
     "end_time": "2022-06-12T19:05:22.557515",
     "exception": false,
     "start_time": "2022-06-12T19:05:22.517521",
     "status": "completed"
    },
    "tags": []
   },
   "outputs": [],
   "source": [
    "data_preds = data_preds / (len(seeds))\n",
    "test_preds = test_preds / (len(seeds) * N_folds)"
   ]
  },
  {
   "cell_type": "code",
   "execution_count": 8,
   "id": "0cb42b8f",
   "metadata": {
    "execution": {
     "iopub.execute_input": "2022-06-12T19:05:22.621862Z",
     "iopub.status.busy": "2022-06-12T19:05:22.621241Z",
     "iopub.status.idle": "2022-06-12T19:05:22.629010Z",
     "shell.execute_reply": "2022-06-12T19:05:22.628127Z"
    },
    "papermill": {
     "duration": 0.042365,
     "end_time": "2022-06-12T19:05:22.631012",
     "exception": false,
     "start_time": "2022-06-12T19:05:22.588647",
     "status": "completed"
    },
    "tags": []
   },
   "outputs": [
    {
     "data": {
      "text/plain": [
       "0.42924336140732333"
      ]
     },
     "execution_count": 8,
     "metadata": {},
     "output_type": "execute_result"
    }
   ],
   "source": [
    "r2_score(data['rating_num'], data_preds)"
   ]
  },
  {
   "cell_type": "code",
   "execution_count": 9,
   "id": "adf98267",
   "metadata": {
    "execution": {
     "iopub.execute_input": "2022-06-12T19:05:22.695904Z",
     "iopub.status.busy": "2022-06-12T19:05:22.694781Z",
     "iopub.status.idle": "2022-06-12T19:05:23.747702Z",
     "shell.execute_reply": "2022-06-12T19:05:23.746596Z"
    },
    "papermill": {
     "duration": 1.087694,
     "end_time": "2022-06-12T19:05:23.749932",
     "exception": false,
     "start_time": "2022-06-12T19:05:22.662238",
     "status": "completed"
    },
    "tags": []
   },
   "outputs": [
    {
     "data": {
      "text/plain": [
       "Text(0.5, 1.0, 'LGB Features (avg over folds)')"
      ]
     },
     "execution_count": 9,
     "metadata": {},
     "output_type": "execute_result"
    },
    {
     "data": {
      "image/png": "[encoded data removed]",
      "text/plain": [
       "<Figure size 576x432 with 1 Axes>"
      ]
     },
     "metadata": {
      "needs_background": "light"
     },
     "output_type": "display_data"
    }
   ],
   "source": [
    "feature_importance[\"importance\"] /= 10\n",
    "cols = feature_importance[[\"feature\", \"importance\"]].groupby(\"feature\").mean().sort_values(\n",
    "    by=\"importance\", ascending=False)[:20].index\n",
    "\n",
    "best_features = feature_importance.loc[feature_importance.feature.isin(cols)]\n",
    "\n",
    "plt.figure(figsize=(8, 6))\n",
    "sns.barplot(x=\"importance\", y=\"feature\", data=best_features.sort_values(by=\"importance\", ascending=False))\n",
    "plt.title('LGB Features (avg over folds)')"
   ]
  },
  {
   "cell_type": "code",
   "execution_count": 10,
   "id": "8650aebb",
   "metadata": {
    "execution": {
     "iopub.execute_input": "2022-06-12T19:05:23.816828Z",
     "iopub.status.busy": "2022-06-12T19:05:23.816174Z",
     "iopub.status.idle": "2022-06-12T19:05:23.821227Z",
     "shell.execute_reply": "2022-06-12T19:05:23.820537Z"
    },
    "papermill": {
     "duration": 0.040972,
     "end_time": "2022-06-12T19:05:23.823270",
     "exception": false,
     "start_time": "2022-06-12T19:05:23.782298",
     "status": "completed"
    },
    "tags": []
   },
   "outputs": [],
   "source": [
    "sub['rating_num'] = test_preds"
   ]
  },
  {
   "cell_type": "code",
   "execution_count": 11,
   "id": "f6e35c9e",
   "metadata": {
    "execution": {
     "iopub.execute_input": "2022-06-12T19:05:23.890690Z",
     "iopub.status.busy": "2022-06-12T19:05:23.890020Z",
     "iopub.status.idle": "2022-06-12T19:05:23.930103Z",
     "shell.execute_reply": "2022-06-12T19:05:23.929033Z"
    },
    "papermill": {
     "duration": 0.076754,
     "end_time": "2022-06-12T19:05:23.932512",
     "exception": false,
     "start_time": "2022-06-12T19:05:23.855758",
     "status": "completed"
    },
    "tags": []
   },
   "outputs": [],
   "source": [
    "sub.to_csv('lgb5.csv', index = False)"
   ]
  },
  {
   "cell_type": "code",
   "execution_count": 12,
   "id": "d881a8f7",
   "metadata": {
    "execution": {
     "iopub.execute_input": "2022-06-12T19:05:24.000382Z",
     "iopub.status.busy": "2022-06-12T19:05:23.999782Z",
     "iopub.status.idle": "2022-06-12T19:05:24.016815Z",
     "shell.execute_reply": "2022-06-12T19:05:24.016099Z"
    },
    "papermill": {
     "duration": 0.053651,
     "end_time": "2022-06-12T19:05:24.018792",
     "exception": false,
     "start_time": "2022-06-12T19:05:23.965141",
     "status": "completed"
    },
    "tags": []
   },
   "outputs": [
    {
     "data": {
      "text/html": [
       "<div>\n",
       "<style scoped>\n",
       "    .dataframe tbody tr th:only-of-type {\n",
       "        vertical-align: middle;\n",
       "    }\n",
       "\n",
       "    .dataframe tbody tr th {\n",
       "        vertical-align: top;\n",
       "    }\n",
       "\n",
       "    .dataframe thead th {\n",
       "        text-align: right;\n",
       "    }\n",
       "</style>\n",
       "<table border=\"1\" class=\"dataframe\">\n",
       "  <thead>\n",
       "    <tr style=\"text-align: right;\">\n",
       "      <th></th>\n",
       "      <th>row_id</th>\n",
       "      <th>rating_num</th>\n",
       "    </tr>\n",
       "  </thead>\n",
       "  <tbody>\n",
       "    <tr>\n",
       "      <th>0</th>\n",
       "      <td>14785</td>\n",
       "      <td>7.003195</td>\n",
       "    </tr>\n",
       "    <tr>\n",
       "      <th>1</th>\n",
       "      <td>15125</td>\n",
       "      <td>5.111285</td>\n",
       "    </tr>\n",
       "    <tr>\n",
       "      <th>2</th>\n",
       "      <td>13095</td>\n",
       "      <td>5.839526</td>\n",
       "    </tr>\n",
       "    <tr>\n",
       "      <th>3</th>\n",
       "      <td>6079</td>\n",
       "      <td>6.330120</td>\n",
       "    </tr>\n",
       "    <tr>\n",
       "      <th>4</th>\n",
       "      <td>16584</td>\n",
       "      <td>6.256542</td>\n",
       "    </tr>\n",
       "    <tr>\n",
       "      <th>...</th>\n",
       "      <td>...</td>\n",
       "      <td>...</td>\n",
       "    </tr>\n",
       "    <tr>\n",
       "      <th>8769</th>\n",
       "      <td>21259</td>\n",
       "      <td>5.186171</td>\n",
       "    </tr>\n",
       "    <tr>\n",
       "      <th>8770</th>\n",
       "      <td>9371</td>\n",
       "      <td>8.414899</td>\n",
       "    </tr>\n",
       "    <tr>\n",
       "      <th>8771</th>\n",
       "      <td>23226</td>\n",
       "      <td>6.244576</td>\n",
       "    </tr>\n",
       "    <tr>\n",
       "      <th>8772</th>\n",
       "      <td>26623</td>\n",
       "      <td>6.546121</td>\n",
       "    </tr>\n",
       "    <tr>\n",
       "      <th>8773</th>\n",
       "      <td>13814</td>\n",
       "      <td>7.072523</td>\n",
       "    </tr>\n",
       "  </tbody>\n",
       "</table>\n",
       "<p>8774 rows × 2 columns</p>\n",
       "</div>"
      ],
      "text/plain": [
       "      row_id  rating_num\n",
       "0      14785    7.003195\n",
       "1      15125    5.111285\n",
       "2      13095    5.839526\n",
       "3       6079    6.330120\n",
       "4      16584    6.256542\n",
       "...      ...         ...\n",
       "8769   21259    5.186171\n",
       "8770    9371    8.414899\n",
       "8771   23226    6.244576\n",
       "8772   26623    6.546121\n",
       "8773   13814    7.072523\n",
       "\n",
       "[8774 rows x 2 columns]"
      ]
     },
     "execution_count": 12,
     "metadata": {},
     "output_type": "execute_result"
    }
   ],
   "source": [
    "sub"
   ]
  },
  {
   "cell_type": "code",
   "execution_count": 13,
   "id": "47529254",
   "metadata": {
    "execution": {
     "iopub.execute_input": "2022-06-12T19:05:24.086799Z",
     "iopub.status.busy": "2022-06-12T19:05:24.086188Z",
     "iopub.status.idle": "2022-06-12T19:05:24.295438Z",
     "shell.execute_reply": "2022-06-12T19:05:24.294504Z"
    },
    "papermill": {
     "duration": 0.246013,
     "end_time": "2022-06-12T19:05:24.297617",
     "exception": false,
     "start_time": "2022-06-12T19:05:24.051604",
     "status": "completed"
    },
    "tags": []
   },
   "outputs": [
    {
     "data": {
      "text/plain": [
       "<AxesSubplot:>"
      ]
     },
     "execution_count": 13,
     "metadata": {},
     "output_type": "execute_result"
    },
    {
     "data": {
      "image/png": "[encoded data removed]",
      "text/plain": [
       "<Figure size 432x288 with 1 Axes>"
      ]
     },
     "metadata": {
      "needs_background": "light"
     },
     "output_type": "display_data"
    }
   ],
   "source": [
    "sub['rating_num'].hist(bins=10)"
   ]
  },
  {
   "cell_type": "code",
   "execution_count": 14,
   "id": "5f15fa3d",
   "metadata": {
    "execution": {
     "iopub.execute_input": "2022-06-12T19:05:24.366036Z",
     "iopub.status.busy": "2022-06-12T19:05:24.365162Z",
     "iopub.status.idle": "2022-06-12T19:05:24.376025Z",
     "shell.execute_reply": "2022-06-12T19:05:24.375115Z"
    },
    "papermill": {
     "duration": 0.0473,
     "end_time": "2022-06-12T19:05:24.378039",
     "exception": false,
     "start_time": "2022-06-12T19:05:24.330739",
     "status": "completed"
    },
    "tags": []
   },
   "outputs": [
    {
     "data": {
      "text/plain": [
       "6.0     3654\n",
       "6.5     3247\n",
       "7.5     3206\n",
       "10.0    2442\n",
       "5.0     2244\n",
       "7.0     1248\n",
       "3.5     1077\n",
       "8.5     1062\n",
       "9.0     1023\n",
       "8.0      873\n",
       "0.0      218\n",
       "3.0      110\n",
       "2.0       49\n",
       "Name: rating_num, dtype: int64"
      ]
     },
     "execution_count": 14,
     "metadata": {},
     "output_type": "execute_result"
    }
   ],
   "source": [
    "data['rating_num'].value_counts()"
   ]
  },
  {
   "cell_type": "code",
   "execution_count": 15,
   "id": "119b054b",
   "metadata": {
    "execution": {
     "iopub.execute_input": "2022-06-12T19:05:24.445956Z",
     "iopub.status.busy": "2022-06-12T19:05:24.445397Z",
     "iopub.status.idle": "2022-06-12T19:05:24.450438Z",
     "shell.execute_reply": "2022-06-12T19:05:24.449528Z"
    },
    "papermill": {
     "duration": 0.041386,
     "end_time": "2022-06-12T19:05:24.452403",
     "exception": false,
     "start_time": "2022-06-12T19:05:24.411017",
     "status": "completed"
    },
    "tags": []
   },
   "outputs": [],
   "source": [
    "def transform(x):\n",
    "    #if x < 1.0 : return 0.0\n",
    "    if x > 9.5 : return 10.0 \n",
    "    \n",
    "    #if 4.25 < x and x < 5.25 : return 5.0\n",
    "    #if 5.50 < x and x < 6.20 : return 6.0\n",
    "    #if 6.40 < x and x < 6.60 : return 6.5\n",
    "    #if 7.40 < x and x < 7.60 : return 7.5\n",
    "    \n",
    "    return x"
   ]
  },
  {
   "cell_type": "code",
   "execution_count": 16,
   "id": "1d0dca1d",
   "metadata": {
    "execution": {
     "iopub.execute_input": "2022-06-12T19:05:24.520577Z",
     "iopub.status.busy": "2022-06-12T19:05:24.519694Z",
     "iopub.status.idle": "2022-06-12T19:05:24.529408Z",
     "shell.execute_reply": "2022-06-12T19:05:24.528742Z"
    },
    "papermill": {
     "duration": 0.045922,
     "end_time": "2022-06-12T19:05:24.531404",
     "exception": false,
     "start_time": "2022-06-12T19:05:24.485482",
     "status": "completed"
    },
    "tags": []
   },
   "outputs": [],
   "source": [
    "sub['rating_num'] = sub['rating_num'].apply(lambda x : transform(x))"
   ]
  },
  {
   "cell_type": "code",
   "execution_count": 17,
   "id": "5e73003d",
   "metadata": {
    "execution": {
     "iopub.execute_input": "2022-06-12T19:05:24.599632Z",
     "iopub.status.busy": "2022-06-12T19:05:24.598632Z",
     "iopub.status.idle": "2022-06-12T19:05:24.632896Z",
     "shell.execute_reply": "2022-06-12T19:05:24.632032Z"
    },
    "papermill": {
     "duration": 0.070617,
     "end_time": "2022-06-12T19:05:24.635057",
     "exception": false,
     "start_time": "2022-06-12T19:05:24.564440",
     "status": "completed"
    },
    "tags": []
   },
   "outputs": [],
   "source": [
    "sub.to_csv('lgb101.csv', index = False)"
   ]
  },
  {
   "cell_type": "code",
   "execution_count": 18,
   "id": "b1690e6d",
   "metadata": {
    "execution": {
     "iopub.execute_input": "2022-06-12T19:05:24.703231Z",
     "iopub.status.busy": "2022-06-12T19:05:24.702689Z",
     "iopub.status.idle": "2022-06-12T19:05:24.897670Z",
     "shell.execute_reply": "2022-06-12T19:05:24.896730Z"
    },
    "papermill": {
     "duration": 0.231534,
     "end_time": "2022-06-12T19:05:24.899865",
     "exception": false,
     "start_time": "2022-06-12T19:05:24.668331",
     "status": "completed"
    },
    "tags": []
   },
   "outputs": [
    {
     "data": {
      "text/plain": [
       "<AxesSubplot:>"
      ]
     },
     "execution_count": 18,
     "metadata": {},
     "output_type": "execute_result"
    },
    {
     "data": {
      "image/png": "[encoded data removed]",
      "text/plain": [
       "<Figure size 432x288 with 1 Axes>"
      ]
     },
     "metadata": {
      "needs_background": "light"
     },
     "output_type": "display_data"
    }
   ],
   "source": [
    "sub['rating_num'].hist(bins=10)"
   ]
  },
  {
   "cell_type": "code",
   "execution_count": 19,
   "id": "3bb09c7a",
   "metadata": {
    "execution": {
     "iopub.execute_input": "2022-06-12T19:05:24.968727Z",
     "iopub.status.busy": "2022-06-12T19:05:24.967886Z",
     "iopub.status.idle": "2022-06-12T19:05:24.974171Z",
     "shell.execute_reply": "2022-06-12T19:05:24.973470Z"
    },
    "papermill": {
     "duration": 0.04272,
     "end_time": "2022-06-12T19:05:24.975926",
     "exception": false,
     "start_time": "2022-06-12T19:05:24.933206",
     "status": "completed"
    },
    "tags": []
   },
   "outputs": [
    {
     "data": {
      "text/plain": [
       "0.8164894083219797"
      ]
     },
     "execution_count": 19,
     "metadata": {},
     "output_type": "execute_result"
    }
   ],
   "source": [
    "sub['rating_num'].min()"
   ]
  },
  {
   "cell_type": "code",
   "execution_count": null,
   "id": "9cb7b2d1",
   "metadata": {
    "papermill": {
     "duration": 0.033646,
     "end_time": "2022-06-12T19:05:25.043236",
     "exception": false,
     "start_time": "2022-06-12T19:05:25.009590",
     "status": "completed"
    },
    "tags": []
   },
   "outputs": [],
   "source": []
  }
 ],
 "metadata": {
  "kernelspec": {
   "display_name": "Python 3",
   "language": "python",
   "name": "python3"
  },
  "language_info": {
   "codemirror_mode": {
    "name": "ipython",
    "version": 3
   },
   "file_extension": ".py",
   "mimetype": "text/x-python",
   "name": "python",
   "nbconvert_exporter": "python",
   "pygments_lexer": "ipython3",
   "version": "3.7.12"
  },
  "papermill": {
   "default_parameters": {},
   "duration": 841.237587,
   "end_time": "2022-06-12T19:05:26.204605",
   "environment_variables": {},
   "exception": null,
   "input_path": "__notebook__.ipynb",
   "output_path": "__notebook__.ipynb",
   "parameters": {},
   "start_time": "2022-06-12T18:51:24.967018",
   "version": "2.3.4"
  }
 },
 "nbformat": 4,
 "nbformat_minor": 5
}
