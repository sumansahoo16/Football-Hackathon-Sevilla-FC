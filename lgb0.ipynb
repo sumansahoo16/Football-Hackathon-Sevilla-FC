{
 "cells": [
  {
   "cell_type": "code",
   "execution_count": 1,
   "id": "432116a2",
   "metadata": {
    "_cell_guid": "b1076dfc-b9ad-4769-8c92-a6c4dae69d19",
    "_uuid": "8f2839f25d086af736a60e9eeb907d3b93b6e0e5",
    "execution": {
     "iopub.execute_input": "2022-06-12T02:57:25.147997Z",
     "iopub.status.busy": "2022-06-12T02:57:25.147635Z",
     "iopub.status.idle": "2022-06-12T02:57:27.545714Z",
     "shell.execute_reply": "2022-06-12T02:57:27.544616Z"
    },
    "papermill": {
     "duration": 2.406671,
     "end_time": "2022-06-12T02:57:27.547812",
     "exception": false,
     "start_time": "2022-06-12T02:57:25.141141",
     "status": "completed"
    },
    "tags": []
   },
   "outputs": [
    {
     "data": {
      "text/html": [
       "<style type='text/css'>\n",
       ".datatable table.frame { margin-bottom: 0; }\n",
       ".datatable table.frame thead { border-bottom: none; }\n",
       ".datatable table.frame tr.coltypes td {  color: #FFFFFF;  line-height: 6px;  padding: 0 0.5em;}\n",
       ".datatable .bool    { background: #DDDD99; }\n",
       ".datatable .object  { background: #565656; }\n",
       ".datatable .int     { background: #5D9E5D; }\n",
       ".datatable .float   { background: #4040CC; }\n",
       ".datatable .str     { background: #CC4040; }\n",
       ".datatable .time    { background: #40CC40; }\n",
       ".datatable .row_index {  background: var(--jp-border-color3);  border-right: 1px solid var(--jp-border-color0);  color: var(--jp-ui-font-color3);  font-size: 9px;}\n",
       ".datatable .frame tbody td { text-align: left; }\n",
       ".datatable .frame tr.coltypes .row_index {  background: var(--jp-border-color0);}\n",
       ".datatable th:nth-child(2) { padding-left: 12px; }\n",
       ".datatable .hellipsis {  color: var(--jp-cell-editor-border-color);}\n",
       ".datatable .vellipsis {  background: var(--jp-layout-color0);  color: var(--jp-cell-editor-border-color);}\n",
       ".datatable .na {  color: var(--jp-cell-editor-border-color);  font-size: 80%;}\n",
       ".datatable .sp {  opacity: 0.25;}\n",
       ".datatable .footer { font-size: 9px; }\n",
       ".datatable .frame_dimensions {  background: var(--jp-border-color3);  border-top: 1px solid var(--jp-border-color0);  color: var(--jp-ui-font-color3);  display: inline-block;  opacity: 0.6;  padding: 1px 10px 1px 5px;}\n",
       "</style>\n"
      ],
      "text/plain": [
       "<IPython.core.display.HTML object>"
      ]
     },
     "metadata": {},
     "output_type": "display_data"
    }
   ],
   "source": [
    "import numpy as np\n",
    "import pandas as pd\n",
    "import matplotlib.pyplot as plt\n",
    "\n",
    "\n",
    "import seaborn as sns\n",
    "import lightgbm as lgb\n",
    "from sklearn.metrics import r2_score\n",
    "from sklearn.model_selection import StratifiedKFold"
   ]
  },
  {
   "cell_type": "code",
   "execution_count": 2,
   "id": "17be4fc9",
   "metadata": {
    "execution": {
     "iopub.execute_input": "2022-06-12T02:57:27.555724Z",
     "iopub.status.busy": "2022-06-12T02:57:27.555356Z",
     "iopub.status.idle": "2022-06-12T02:57:33.607198Z",
     "shell.execute_reply": "2022-06-12T02:57:33.606356Z"
    },
    "papermill": {
     "duration": 6.058064,
     "end_time": "2022-06-12T02:57:33.609311",
     "exception": false,
     "start_time": "2022-06-12T02:57:27.551247",
     "status": "completed"
    },
    "tags": []
   },
   "outputs": [],
   "source": [
    "data = pd.read_csv('../input/football-hackathon/train_1K0BDt5/train.csv')\n",
    "test = pd.read_csv('../input/football-hackathon/test_kuhCxHY/test.csv')\n",
    "sub  = pd.read_csv('../input/football-hackathon/sample_submission_wBWLI0s.csv')"
   ]
  },
  {
   "cell_type": "code",
   "execution_count": 3,
   "id": "1e6284e3",
   "metadata": {
    "execution": {
     "iopub.execute_input": "2022-06-12T02:57:33.619985Z",
     "iopub.status.busy": "2022-06-12T02:57:33.619690Z",
     "iopub.status.idle": "2022-06-12T02:57:33.787564Z",
     "shell.execute_reply": "2022-06-12T02:57:33.786888Z"
    },
    "papermill": {
     "duration": 0.17519,
     "end_time": "2022-06-12T02:57:33.789431",
     "exception": false,
     "start_time": "2022-06-12T02:57:33.614241",
     "status": "completed"
    },
    "tags": []
   },
   "outputs": [],
   "source": [
    "winner = {'winner': 1, 'loser': -1, 'draw': 0}\n",
    "\n",
    "data['winner'] = data['winner'].map(winner)\n",
    "test['winner'] = test['winner'].map(winner)\n",
    "\n",
    "data['team'] = data['team'].map({'team1' : 0, 'team2' : 1})\n",
    "test['team'] = test['team'].map({'team1' : 0, 'team2' : 1})\n",
    "\n",
    "data = pd.get_dummies(data, columns = ['competitionId', 'scout_id','team1_system_id', 'team2_system_id', 'player_position_1','player_position_2'])\n",
    "test = pd.get_dummies(test, columns = ['competitionId', 'scout_id','team1_system_id', 'team2_system_id', 'player_position_1','player_position_2'])\n",
    "\n",
    "del data['row_id'], test['row_id']"
   ]
  },
  {
   "cell_type": "code",
   "execution_count": 4,
   "id": "fe0e58c3",
   "metadata": {
    "execution": {
     "iopub.execute_input": "2022-06-12T02:57:33.798098Z",
     "iopub.status.busy": "2022-06-12T02:57:33.797085Z",
     "iopub.status.idle": "2022-06-12T02:57:33.802718Z",
     "shell.execute_reply": "2022-06-12T02:57:33.801616Z"
    },
    "papermill": {
     "duration": 0.011957,
     "end_time": "2022-06-12T02:57:33.804824",
     "exception": false,
     "start_time": "2022-06-12T02:57:33.792867",
     "status": "completed"
    },
    "tags": []
   },
   "outputs": [],
   "source": [
    "cols = list(set(test.columns.to_list()).intersection(set(data.columns.to_list())))\n",
    "\n",
    "lgb_params = {\n",
    "    'boosting_type': 'gbdt',\n",
    "    'objective': 'regression',\n",
    "    'metric': 'mean_squared_error',\n",
    "    'nthread':-1,\n",
    "    'seed' : 16,\n",
    "}\n"
   ]
  },
  {
   "cell_type": "code",
   "execution_count": 5,
   "id": "0c144b00",
   "metadata": {
    "execution": {
     "iopub.execute_input": "2022-06-12T02:57:33.812693Z",
     "iopub.status.busy": "2022-06-12T02:57:33.812341Z",
     "iopub.status.idle": "2022-06-12T02:59:46.023303Z",
     "shell.execute_reply": "2022-06-12T02:59:46.022612Z"
    },
    "papermill": {
     "duration": 132.217439,
     "end_time": "2022-06-12T02:59:46.025580",
     "exception": false,
     "start_time": "2022-06-12T02:57:33.808141",
     "status": "completed"
    },
    "tags": []
   },
   "outputs": [
    {
     "name": "stdout",
     "output_type": "stream",
     "text": [
      "---------------------------------------\n",
      "SEED :  455\n",
      "---------------------------------------\n",
      "FOLD :  0\n"
     ]
    },
    {
     "name": "stderr",
     "output_type": "stream",
     "text": [
      "/opt/conda/lib/python3.7/site-packages/lightgbm/engine.py:181: UserWarning: 'early_stopping_rounds' argument is deprecated and will be removed in a future release of LightGBM. Pass 'early_stopping()' callback via 'callbacks' argument instead.\n",
      "  _log_warning(\"'early_stopping_rounds' argument is deprecated and will be removed in a future release of LightGBM. \"\n",
      "/opt/conda/lib/python3.7/site-packages/lightgbm/engine.py:239: UserWarning: 'verbose_eval' argument is deprecated and will be removed in a future release of LightGBM. Pass 'log_evaluation()' callback via 'callbacks' argument instead.\n",
      "  _log_warning(\"'verbose_eval' argument is deprecated and will be removed in a future release of LightGBM. \"\n"
     ]
    },
    {
     "name": "stdout",
     "output_type": "stream",
     "text": [
      "[LightGBM] [Warning] Auto-choosing col-wise multi-threading, the overhead of testing was 0.194927 seconds.\n",
      "You can set `force_col_wise=true` to remove the overhead.\n",
      "[LightGBM] [Info] Total Bins 92941\n",
      "[LightGBM] [Info] Number of data points in the train set: 16362, number of used features: 859\n",
      "[LightGBM] [Info] Start training from score 6.887269\n",
      "Training until validation scores don't improve for 20 rounds\n",
      "[50]\ttraining's l2: 1.98987\tvalid_1's l2: 2.51696\n",
      "[100]\ttraining's l2: 1.47991\tvalid_1's l2: 2.33727\n",
      "[150]\ttraining's l2: 1.17178\tvalid_1's l2: 2.26217\n",
      "[200]\ttraining's l2: 0.945272\tvalid_1's l2: 2.22255\n",
      "[250]\ttraining's l2: 0.760311\tvalid_1's l2: 2.17099\n",
      "[300]\ttraining's l2: 0.618472\tvalid_1's l2: 2.14223\n",
      "[350]\ttraining's l2: 0.505291\tvalid_1's l2: 2.11979\n",
      "[400]\ttraining's l2: 0.415645\tvalid_1's l2: 2.08722\n",
      "[450]\ttraining's l2: 0.343061\tvalid_1's l2: 2.07396\n",
      "[500]\ttraining's l2: 0.287101\tvalid_1's l2: 2.06014\n",
      "Did not meet early stopping. Best iteration is:\n",
      "[500]\ttraining's l2: 0.287101\tvalid_1's l2: 2.06014\n",
      "FOLD :  1\n",
      "[LightGBM] [Warning] Auto-choosing col-wise multi-threading, the overhead of testing was 0.191145 seconds.\n",
      "You can set `force_col_wise=true` to remove the overhead.\n",
      "[LightGBM] [Info] Total Bins 93003\n",
      "[LightGBM] [Info] Number of data points in the train set: 16362, number of used features: 858\n",
      "[LightGBM] [Info] Start training from score 6.887392\n",
      "Training until validation scores don't improve for 20 rounds\n",
      "[50]\ttraining's l2: 1.9825\tvalid_1's l2: 2.5537\n",
      "[100]\ttraining's l2: 1.4841\tvalid_1's l2: 2.38742\n",
      "[150]\ttraining's l2: 1.17208\tvalid_1's l2: 2.30071\n",
      "[200]\ttraining's l2: 0.938413\tvalid_1's l2: 2.24129\n",
      "[250]\ttraining's l2: 0.767603\tvalid_1's l2: 2.20035\n",
      "[300]\ttraining's l2: 0.620748\tvalid_1's l2: 2.15698\n",
      "[350]\ttraining's l2: 0.511817\tvalid_1's l2: 2.13082\n",
      "[400]\ttraining's l2: 0.425972\tvalid_1's l2: 2.11319\n",
      "[450]\ttraining's l2: 0.352797\tvalid_1's l2: 2.09596\n",
      "[500]\ttraining's l2: 0.294788\tvalid_1's l2: 2.08232\n",
      "Did not meet early stopping. Best iteration is:\n",
      "[500]\ttraining's l2: 0.294788\tvalid_1's l2: 2.08232\n",
      "FOLD :  2\n",
      "[LightGBM] [Warning] Auto-choosing col-wise multi-threading, the overhead of testing was 0.173894 seconds.\n",
      "You can set `force_col_wise=true` to remove the overhead.\n",
      "[LightGBM] [Info] Total Bins 93039\n",
      "[LightGBM] [Info] Number of data points in the train set: 16362, number of used features: 859\n",
      "[LightGBM] [Info] Start training from score 6.887605\n",
      "Training until validation scores don't improve for 20 rounds\n",
      "[50]\ttraining's l2: 1.95058\tvalid_1's l2: 2.63303\n",
      "[100]\ttraining's l2: 1.45962\tvalid_1's l2: 2.46323\n",
      "[150]\ttraining's l2: 1.14865\tvalid_1's l2: 2.39391\n",
      "[200]\ttraining's l2: 0.932124\tvalid_1's l2: 2.34422\n",
      "[250]\ttraining's l2: 0.757647\tvalid_1's l2: 2.31465\n",
      "[300]\ttraining's l2: 0.623423\tvalid_1's l2: 2.28349\n",
      "[350]\ttraining's l2: 0.517417\tvalid_1's l2: 2.25919\n",
      "[400]\ttraining's l2: 0.425873\tvalid_1's l2: 2.24386\n",
      "[450]\ttraining's l2: 0.352411\tvalid_1's l2: 2.22964\n",
      "[500]\ttraining's l2: 0.294747\tvalid_1's l2: 2.21798\n",
      "Did not meet early stopping. Best iteration is:\n",
      "[500]\ttraining's l2: 0.294747\tvalid_1's l2: 2.21798\n",
      "FOLD :  3\n",
      "[LightGBM] [Warning] Auto-choosing col-wise multi-threading, the overhead of testing was 0.199434 seconds.\n",
      "You can set `force_col_wise=true` to remove the overhead.\n",
      "[LightGBM] [Info] Total Bins 93059\n",
      "[LightGBM] [Info] Number of data points in the train set: 16363, number of used features: 858\n",
      "[LightGBM] [Info] Start training from score 6.887368\n",
      "Training until validation scores don't improve for 20 rounds\n",
      "[50]\ttraining's l2: 1.97061\tvalid_1's l2: 2.61497\n",
      "[100]\ttraining's l2: 1.47734\tvalid_1's l2: 2.45672\n",
      "[150]\ttraining's l2: 1.15927\tvalid_1's l2: 2.38431\n",
      "[200]\ttraining's l2: 0.927062\tvalid_1's l2: 2.3381\n",
      "[250]\ttraining's l2: 0.756614\tvalid_1's l2: 2.30028\n",
      "[300]\ttraining's l2: 0.615763\tvalid_1's l2: 2.27003\n",
      "[350]\ttraining's l2: 0.505656\tvalid_1's l2: 2.24579\n",
      "[400]\ttraining's l2: 0.420777\tvalid_1's l2: 2.22954\n",
      "[450]\ttraining's l2: 0.3516\tvalid_1's l2: 2.21248\n",
      "[500]\ttraining's l2: 0.290076\tvalid_1's l2: 2.19619\n",
      "Did not meet early stopping. Best iteration is:\n",
      "[500]\ttraining's l2: 0.290076\tvalid_1's l2: 2.19619\n",
      "FOLD :  4\n",
      "[LightGBM] [Warning] Auto-choosing col-wise multi-threading, the overhead of testing was 0.186670 seconds.\n",
      "You can set `force_col_wise=true` to remove the overhead.\n",
      "[LightGBM] [Info] Total Bins 93035\n",
      "[LightGBM] [Info] Number of data points in the train set: 16363, number of used features: 859\n",
      "[LightGBM] [Info] Start training from score 6.886879\n",
      "Training until validation scores don't improve for 20 rounds\n",
      "[50]\ttraining's l2: 1.99367\tvalid_1's l2: 2.51941\n",
      "[100]\ttraining's l2: 1.49608\tvalid_1's l2: 2.35202\n",
      "[150]\ttraining's l2: 1.18198\tvalid_1's l2: 2.26192\n",
      "[200]\ttraining's l2: 0.956315\tvalid_1's l2: 2.21363\n",
      "[250]\ttraining's l2: 0.770834\tvalid_1's l2: 2.17495\n",
      "[300]\ttraining's l2: 0.626987\tvalid_1's l2: 2.14518\n",
      "[350]\ttraining's l2: 0.509753\tvalid_1's l2: 2.11915\n",
      "[400]\ttraining's l2: 0.420941\tvalid_1's l2: 2.09934\n",
      "[450]\ttraining's l2: 0.352268\tvalid_1's l2: 2.08363\n",
      "[500]\ttraining's l2: 0.291238\tvalid_1's l2: 2.07274\n",
      "Did not meet early stopping. Best iteration is:\n",
      "[500]\ttraining's l2: 0.291238\tvalid_1's l2: 2.07274\n"
     ]
    }
   ],
   "source": [
    "N_folds = 5\n",
    "seeds = [455]\n",
    "\n",
    "data_preds = np.zeros((data.shape[0]))\n",
    "test_preds = np.zeros((test.shape[0]))\n",
    "\n",
    "feature_importance = pd.DataFrame()\n",
    "\n",
    "for seed in seeds:\n",
    "    print('---------------------------------------')\n",
    "    print('SEED : ', seed)\n",
    "    print('---------------------------------------')\n",
    "    \n",
    "    \n",
    "    data['fold'] = -1\n",
    "    skf = StratifiedKFold(n_splits=N_folds, shuffle=True, random_state=seed)\n",
    "    for f, (_, idxs) in enumerate(skf.split(data,data['rating_num'].apply(lambda x: int(2*x)))):\n",
    "        data.loc[idxs, 'fold'] = f\n",
    "        \n",
    "    for F in range(N_folds):\n",
    "        \n",
    "        print('FOLD : ', F)\n",
    "        \n",
    "        train = data[data['fold'] != F].reset_index(drop=True)\n",
    "        valid = data[data['fold'] == F].reset_index(drop=True)\n",
    "        \n",
    "        \n",
    "        train_dataset = lgb.Dataset(train[cols], train['rating_num'])\n",
    "        valid_dataset = lgb.Dataset(valid[cols], valid['rating_num'])\n",
    "        \n",
    "        model = lgb.train(params = lgb_params,\n",
    "                          num_boost_round=500,\n",
    "                          train_set = train_dataset, \n",
    "                          valid_sets = [train_dataset, valid_dataset], \n",
    "                          verbose_eval = 50,\n",
    "                          early_stopping_rounds=20)\n",
    "        \n",
    "        del train_dataset, valid_dataset\n",
    "        \n",
    "        fold_importance = pd.DataFrame()\n",
    "        fold_importance[\"feature\"] = cols\n",
    "        fold_importance[\"importance\"] = model.feature_importance()\n",
    "        fold_importance[\"fold\"] = F + 1\n",
    "        feature_importance = pd.concat([feature_importance, fold_importance], axis=0)\n",
    "        \n",
    "        \n",
    "        preds = model.predict(valid[cols])\n",
    "        data_preds[data[data['fold'] == F].index] += preds\n",
    "        \n",
    "        preds = model.predict(test[cols])\n",
    "        test_preds += preds"
   ]
  },
  {
   "cell_type": "code",
   "execution_count": 6,
   "id": "3345fd01",
   "metadata": {
    "execution": {
     "iopub.execute_input": "2022-06-12T02:59:46.045100Z",
     "iopub.status.busy": "2022-06-12T02:59:46.044696Z",
     "iopub.status.idle": "2022-06-12T02:59:46.049373Z",
     "shell.execute_reply": "2022-06-12T02:59:46.048493Z"
    },
    "papermill": {
     "duration": 0.013504,
     "end_time": "2022-06-12T02:59:46.050844",
     "exception": false,
     "start_time": "2022-06-12T02:59:46.037340",
     "status": "completed"
    },
    "tags": []
   },
   "outputs": [],
   "source": [
    "data_preds = data_preds / (len(seeds))\n",
    "test_preds = test_preds / (len(seeds) * N_folds)"
   ]
  },
  {
   "cell_type": "code",
   "execution_count": 7,
   "id": "6fd2d0d0",
   "metadata": {
    "execution": {
     "iopub.execute_input": "2022-06-12T02:59:46.065124Z",
     "iopub.status.busy": "2022-06-12T02:59:46.064770Z",
     "iopub.status.idle": "2022-06-12T02:59:46.071925Z",
     "shell.execute_reply": "2022-06-12T02:59:46.071156Z"
    },
    "papermill": {
     "duration": 0.016052,
     "end_time": "2022-06-12T02:59:46.073440",
     "exception": false,
     "start_time": "2022-06-12T02:59:46.057388",
     "status": "completed"
    },
    "tags": []
   },
   "outputs": [
    {
     "data": {
      "text/plain": [
       "0.38041005661001603"
      ]
     },
     "execution_count": 7,
     "metadata": {},
     "output_type": "execute_result"
    }
   ],
   "source": [
    "r2_score(data['rating_num'], data_preds)"
   ]
  },
  {
   "cell_type": "code",
   "execution_count": 8,
   "id": "4c028562",
   "metadata": {
    "execution": {
     "iopub.execute_input": "2022-06-12T02:59:46.088240Z",
     "iopub.status.busy": "2022-06-12T02:59:46.087888Z",
     "iopub.status.idle": "2022-06-12T02:59:46.947976Z",
     "shell.execute_reply": "2022-06-12T02:59:46.946625Z"
    },
    "papermill": {
     "duration": 0.869669,
     "end_time": "2022-06-12T02:59:46.949738",
     "exception": false,
     "start_time": "2022-06-12T02:59:46.080069",
     "status": "completed"
    },
    "tags": []
   },
   "outputs": [
    {
     "data": {
      "image/png": "[encoded data removed]",
      "text/plain": [
       "<Figure size 576x432 with 1 Axes>"
      ]
     },
     "metadata": {
      "needs_background": "light"
     },
     "output_type": "display_data"
    }
   ],
   "source": [
    "feature_importance[\"importance\"] /= 10\n",
    "cols = feature_importance[[\"feature\", \"importance\"]].groupby(\"feature\").mean().sort_values(\n",
    "    by=\"importance\", ascending=False)[:20].index\n",
    "\n",
    "best_features = feature_importance.loc[feature_importance.feature.isin(cols)]\n",
    "\n",
    "plt.figure(figsize=(8, 6));\n",
    "sns.barplot(x=\"importance\", y=\"feature\", data=best_features.sort_values(by=\"importance\", ascending=False));\n",
    "plt.title('LGB Features (avg over folds)');"
   ]
  },
  {
   "cell_type": "code",
   "execution_count": 9,
   "id": "9935ce7a",
   "metadata": {
    "execution": {
     "iopub.execute_input": "2022-06-12T02:59:46.967145Z",
     "iopub.status.busy": "2022-06-12T02:59:46.966725Z",
     "iopub.status.idle": "2022-06-12T02:59:46.971988Z",
     "shell.execute_reply": "2022-06-12T02:59:46.971351Z"
    },
    "papermill": {
     "duration": 0.016047,
     "end_time": "2022-06-12T02:59:46.973566",
     "exception": false,
     "start_time": "2022-06-12T02:59:46.957519",
     "status": "completed"
    },
    "tags": []
   },
   "outputs": [],
   "source": [
    "sub['rating_num'] = test_preds"
   ]
  },
  {
   "cell_type": "code",
   "execution_count": 10,
   "id": "35ff6633",
   "metadata": {
    "execution": {
     "iopub.execute_input": "2022-06-12T02:59:46.997864Z",
     "iopub.status.busy": "2022-06-12T02:59:46.997500Z",
     "iopub.status.idle": "2022-06-12T02:59:47.031035Z",
     "shell.execute_reply": "2022-06-12T02:59:47.029944Z"
    },
    "papermill": {
     "duration": 0.051416,
     "end_time": "2022-06-12T02:59:47.036285",
     "exception": false,
     "start_time": "2022-06-12T02:59:46.984869",
     "status": "completed"
    },
    "tags": []
   },
   "outputs": [],
   "source": [
    "sub.to_csv('lgb0.csv', index = False)"
   ]
  },
  {
   "cell_type": "code",
   "execution_count": 11,
   "id": "48265698",
   "metadata": {
    "execution": {
     "iopub.execute_input": "2022-06-12T02:59:47.063886Z",
     "iopub.status.busy": "2022-06-12T02:59:47.063518Z",
     "iopub.status.idle": "2022-06-12T02:59:47.078766Z",
     "shell.execute_reply": "2022-06-12T02:59:47.077075Z"
    },
    "papermill": {
     "duration": 0.030571,
     "end_time": "2022-06-12T02:59:47.081498",
     "exception": false,
     "start_time": "2022-06-12T02:59:47.050927",
     "status": "completed"
    },
    "tags": []
   },
   "outputs": [
    {
     "data": {
      "text/html": [
       "<div>\n",
       "<style scoped>\n",
       "    .dataframe tbody tr th:only-of-type {\n",
       "        vertical-align: middle;\n",
       "    }\n",
       "\n",
       "    .dataframe tbody tr th {\n",
       "        vertical-align: top;\n",
       "    }\n",
       "\n",
       "    .dataframe thead th {\n",
       "        text-align: right;\n",
       "    }\n",
       "</style>\n",
       "<table border=\"1\" class=\"dataframe\">\n",
       "  <thead>\n",
       "    <tr style=\"text-align: right;\">\n",
       "      <th></th>\n",
       "      <th>row_id</th>\n",
       "      <th>rating_num</th>\n",
       "    </tr>\n",
       "  </thead>\n",
       "  <tbody>\n",
       "    <tr>\n",
       "      <th>0</th>\n",
       "      <td>14785</td>\n",
       "      <td>6.742223</td>\n",
       "    </tr>\n",
       "    <tr>\n",
       "      <th>1</th>\n",
       "      <td>15125</td>\n",
       "      <td>5.573677</td>\n",
       "    </tr>\n",
       "    <tr>\n",
       "      <th>2</th>\n",
       "      <td>13095</td>\n",
       "      <td>5.830547</td>\n",
       "    </tr>\n",
       "    <tr>\n",
       "      <th>3</th>\n",
       "      <td>6079</td>\n",
       "      <td>6.659066</td>\n",
       "    </tr>\n",
       "    <tr>\n",
       "      <th>4</th>\n",
       "      <td>16584</td>\n",
       "      <td>6.418781</td>\n",
       "    </tr>\n",
       "    <tr>\n",
       "      <th>...</th>\n",
       "      <td>...</td>\n",
       "      <td>...</td>\n",
       "    </tr>\n",
       "    <tr>\n",
       "      <th>8769</th>\n",
       "      <td>21259</td>\n",
       "      <td>5.158310</td>\n",
       "    </tr>\n",
       "    <tr>\n",
       "      <th>8770</th>\n",
       "      <td>9371</td>\n",
       "      <td>8.385045</td>\n",
       "    </tr>\n",
       "    <tr>\n",
       "      <th>8771</th>\n",
       "      <td>23226</td>\n",
       "      <td>6.153844</td>\n",
       "    </tr>\n",
       "    <tr>\n",
       "      <th>8772</th>\n",
       "      <td>26623</td>\n",
       "      <td>6.733104</td>\n",
       "    </tr>\n",
       "    <tr>\n",
       "      <th>8773</th>\n",
       "      <td>13814</td>\n",
       "      <td>7.143156</td>\n",
       "    </tr>\n",
       "  </tbody>\n",
       "</table>\n",
       "<p>8774 rows × 2 columns</p>\n",
       "</div>"
      ],
      "text/plain": [
       "      row_id  rating_num\n",
       "0      14785    6.742223\n",
       "1      15125    5.573677\n",
       "2      13095    5.830547\n",
       "3       6079    6.659066\n",
       "4      16584    6.418781\n",
       "...      ...         ...\n",
       "8769   21259    5.158310\n",
       "8770    9371    8.385045\n",
       "8771   23226    6.153844\n",
       "8772   26623    6.733104\n",
       "8773   13814    7.143156\n",
       "\n",
       "[8774 rows x 2 columns]"
      ]
     },
     "execution_count": 11,
     "metadata": {},
     "output_type": "execute_result"
    }
   ],
   "source": [
    "sub"
   ]
  },
  {
   "cell_type": "markdown",
   "id": "91ea6000",
   "metadata": {
    "papermill": {
     "duration": 0.012907,
     "end_time": "2022-06-12T02:59:47.108100",
     "exception": false,
     "start_time": "2022-06-12T02:59:47.095193",
     "status": "completed"
    },
    "tags": []
   },
   "source": []
  }
 ],
 "metadata": {
  "kernelspec": {
   "display_name": "Python 3",
   "language": "python",
   "name": "python3"
  },
  "language_info": {
   "codemirror_mode": {
    "name": "ipython",
    "version": 3
   },
   "file_extension": ".py",
   "mimetype": "text/x-python",
   "name": "python",
   "nbconvert_exporter": "python",
   "pygments_lexer": "ipython3",
   "version": "3.7.12"
  },
  "papermill": {
   "default_parameters": {},
   "duration": 153.435979,
   "end_time": "2022-06-12T02:59:47.943418",
   "environment_variables": {},
   "exception": null,
   "input_path": "__notebook__.ipynb",
   "output_path": "__notebook__.ipynb",
   "parameters": {},
   "start_time": "2022-06-12T02:57:14.507439",
   "version": "2.3.4"
  }
 },
 "nbformat": 4,
 "nbformat_minor": 5
}
